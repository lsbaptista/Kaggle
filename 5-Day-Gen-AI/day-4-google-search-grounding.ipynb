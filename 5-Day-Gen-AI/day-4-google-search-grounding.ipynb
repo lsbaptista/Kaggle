{
 "cells": [
  {
   "cell_type": "markdown",
   "metadata": {
    "id": "kokPyXQaY3xI"
   },
   "source": [
    "##### Copyright 2025 Google LLC."
   ]
  },
  {
   "cell_type": "code",
   "execution_count": null,
   "metadata": {
    "cellView": "form",
    "execution": {
     "iopub.execute_input": "2025-04-03T09:58:12.317555Z",
     "iopub.status.busy": "2025-04-03T09:58:12.317175Z",
     "iopub.status.idle": "2025-04-03T09:58:12.340015Z",
     "shell.execute_reply": "2025-04-03T09:58:12.338893Z",
     "shell.execute_reply.started": "2025-04-03T09:58:12.317509Z"
    },
    "id": "StB_cTIkY1ZG",
    "jupyter": {
     "source_hidden": true
    },
    "trusted": true
   },
   "outputs": [],
   "source": [
    "# @title Licensed under the Apache License, Version 2.0 (the \"License\");\n",
    "# you may not use this file except in compliance with the License.\n",
    "# You may obtain a copy of the License at\n",
    "#\n",
    "# https://www.apache.org/licenses/LICENSE-2.0\n",
    "#\n",
    "# Unless required by applicable law or agreed to in writing, software\n",
    "# distributed under the License is distributed on an \"AS IS\" BASIS,\n",
    "# WITHOUT WARRANTIES OR CONDITIONS OF ANY KIND, either express or implied.\n",
    "# See the License for the specific language governing permissions and\n",
    "# limitations under the License."
   ]
  },
  {
   "cell_type": "markdown",
   "metadata": {
    "id": "q-mcOl0JY8Xg"
   },
   "source": [
    "# Day 4 - Google Search grounding with the Gemini API\n",
    "\n",
    "Welcome back to the Kaggle 5-day Generative AI course!\n",
    "\n",
    "In this optional notebook, you will use [Google Search](https://google.com/) results with the Gemini API in a technique called grounding, where the model is connected to verifiable sources of information. Using search grounding is similar to using the RAG system you implemented earlier in the week, but the Gemini API automates a lot of it for you. The model generates Google Search queries and invokes the searches automatically, retrieving relevant data from Google's index of the web and providing links to search suggestions that support the query, so your users can verify the sources.\n",
    "\n",
    "## New in Gemini 2.0\n",
    "\n",
    "Gemini 2.0 Flash provides a generous Google Search quota as part of the [free tier](https://ai.google.dev/pricing). If you switch models back to 1.5, you will need to [enable billing](https://aistudio.google.com/apikey) to use Grounding with Google Search, or you can [try it out in AI Studio](https://aistudio.google.com/). See the [earlier versions of this notebook](https://www.kaggle.com/code/markishere/day-4-google-search-grounding?scriptVersionId=207458162) for guidance. "
   ]
  },
  {
   "cell_type": "markdown",
   "metadata": {},
   "source": [
    "## Optional: Use Google AI Studio\n",
    "\n",
    "If you wish to try out grounding with Google Search, follow this section to try it out using the AI Studio interface. Or skip ahead to the `API` section to try the feature here in your notebook.\n",
    "\n",
    "### Open AI Studio\n",
    "\n",
    "Start by going to [AI Studio](https://aistudio.google.com/prompts/new_chat). You should be in the \"New chat\" interface.\n",
    "\n",
    "Search Grounding is best with `gemini-2.0-flash`, but try out `gemini-1.5-flash` too.\n",
    "\n",
    "![New chat in AI Studio](https://storage.googleapis.com/generativeai-downloads/kaggle/ais-newchat.png)\n",
    "\n",
    "### Ask a question\n",
    "\n",
    "Now enter a prompt into the chat interface. Try asking something that is timely and might require recent information to answer, like a recent sport score. For this query, grounding will be **disabled** by default.\n",
    "\n",
    "This screenshow shows the response for `What were the top halloween costumes this year?`. Every execution will be different but typically the model talks about 2023, and hedges its responses saying it doesn't have access to specific information resulting in a general comment, rather than specific answers.\n",
    "\n",
    "![Sample question-answer pair without grounding](https://storage.googleapis.com/generativeai-downloads/kaggle/cricket-ungrounded.png)\n",
    "\n",
    "### Enable grounding\n",
    "\n",
    "On the right-hand sidebar, under the `Tools` section. Find and enable the `Grounding` option.\n",
    "\n",
    "![Enable grounding button](https://storage.googleapis.com/generativeai-downloads/kaggle/enable-grounding.png)\n",
    "\n",
    "Now re-run your question by hovering over the user prompt in the chat history, and pressing the Gemini ✨ icon to re-run your prompt.\n",
    "\n",
    "![Re-run prompt button](https://storage.googleapis.com/generativeai-downloads/kaggle/re-run-button.png)\n",
    "\n",
    "You should now see a response generated that references sources from Google Search.\n",
    "\n",
    "![Response with grounded sources from Google!](https://storage.googleapis.com/generativeai-downloads/kaggle/cricket-grounded.png)\n",
    "\n",
    "\n",
    "### Try your own queries\n",
    "\n",
    "Explore this interface and try some other queries. Share what works well in the [Discord](https://discord.com/channels/1101210829807956100/1303438361117069363)! You can start from [this blank template](https://aistudio.google.com/app/prompts/1FZtxKLFZIJ1p_0rICu8K2CNIF1tkAnf4) that has search grounding enabled.\n",
    "\n",
    "The remaining steps require an API key with billing enabled. They are not required to complete this course; if you have tried grounding in AI Studio you are done for this notebook."
   ]
  },
  {
   "cell_type": "markdown",
   "metadata": {
    "id": "Qcyq976Gbwpo"
   },
   "source": [
    "## Use the API\n",
    "\n",
    "Start by installing and importing the Gemini API Python SDK."
   ]
  },
  {
   "cell_type": "code",
   "execution_count": null,
   "metadata": {
    "execution": {
     "iopub.execute_input": "2025-04-03T09:58:12.3433Z",
     "iopub.status.busy": "2025-04-03T09:58:12.342823Z",
     "iopub.status.idle": "2025-04-03T09:58:30.65952Z",
     "shell.execute_reply": "2025-04-03T09:58:30.658231Z",
     "shell.execute_reply.started": "2025-04-03T09:58:12.343251Z"
    },
    "id": "1ZLC4ORSbqme",
    "trusted": true
   },
   "outputs": [],
   "source": [
    "# # Uninstall packages from Kaggle base image that are not needed.\n",
    "# !pip uninstall -qy jupyterlab jupyterlab-lsp\n",
    "# # Install the google-genai SDK for this codelab.\n",
    "# !pip install -qU 'google-genai==1.7.0'"
   ]
  },
  {
   "cell_type": "code",
   "execution_count": 1,
   "metadata": {
    "execution": {
     "iopub.execute_input": "2025-04-03T09:58:30.661416Z",
     "iopub.status.busy": "2025-04-03T09:58:30.661065Z",
     "iopub.status.idle": "2025-04-03T09:58:31.952191Z",
     "shell.execute_reply": "2025-04-03T09:58:31.951108Z",
     "shell.execute_reply.started": "2025-04-03T09:58:30.661383Z"
    },
    "id": "FNkHtOAmbt2B",
    "trusted": true
   },
   "outputs": [
    {
     "data": {
      "text/plain": [
       "'1.7.0'"
      ]
     },
     "execution_count": 1,
     "metadata": {},
     "output_type": "execute_result"
    }
   ],
   "source": [
    "from google import genai\n",
    "from google.genai import types\n",
    "\n",
    "from IPython.display import Markdown, HTML, display\n",
    "\n",
    "genai.__version__"
   ]
  },
  {
   "cell_type": "markdown",
   "metadata": {
    "id": "_NO9cdffb4KR"
   },
   "source": [
    "### Set up your API key\n",
    "\n",
    "To run the following cell, your API key must be stored it in a [Kaggle secret](https://www.kaggle.com/discussions/product-feedback/114053) named `GOOGLE_API_KEY`.\n",
    "\n",
    "If you don't already have an API key, you can grab one from [AI Studio](https://aistudio.google.com/app/apikey). You can find [detailed instructions in the docs](https://ai.google.dev/gemini-api/docs/api-key).\n",
    "\n",
    "To make the key available through Kaggle secrets, choose `Secrets` from the `Add-ons` menu and follow the instructions to add your key or enable it for this notebook."
   ]
  },
  {
   "cell_type": "code",
   "execution_count": 2,
   "metadata": {
    "execution": {
     "iopub.execute_input": "2025-04-03T09:58:31.954128Z",
     "iopub.status.busy": "2025-04-03T09:58:31.953579Z",
     "iopub.status.idle": "2025-04-03T09:58:32.184023Z",
     "shell.execute_reply": "2025-04-03T09:58:32.182796Z",
     "shell.execute_reply.started": "2025-04-03T09:58:31.954086Z"
    },
    "id": "8NAmACYHb5DK",
    "trusted": true
   },
   "outputs": [],
   "source": [
    "# from kaggle_secrets import UserSecretsClient\n",
    "\n",
    "# GOOGLE_API_KEY = UserSecretsClient().get_secret(\"GOOGLE_API_KEY\")\n",
    "\n",
    "import os\n",
    "from dotenv import load_dotenv\n",
    "load_dotenv()\n",
    "\n",
    "GOOGLE_API_KEY= os.getenv(\"GOOGLE_API_KEY\")\n",
    "\n",
    "client = genai.Client(api_key=GOOGLE_API_KEY)"
   ]
  },
  {
   "cell_type": "markdown",
   "metadata": {
    "id": "cfb5d41c4a03"
   },
   "source": [
    "If you received an error response along the lines of `No user secrets exist for kernel id ...`, then you need to add your API key via `Add-ons`, `Secrets` **and** enable it.\n",
    "\n",
    "![Screenshot of the checkbox to enable GOOGLE_API_KEY secret](https://storage.googleapis.com/kaggle-media/Images/5gdai_sc_3.png)"
   ]
  },
  {
   "cell_type": "markdown",
   "metadata": {},
   "source": [
    "### Automated retry"
   ]
  },
  {
   "cell_type": "code",
   "execution_count": 3,
   "metadata": {
    "execution": {
     "iopub.execute_input": "2025-04-03T09:58:32.185642Z",
     "iopub.status.busy": "2025-04-03T09:58:32.185293Z",
     "iopub.status.idle": "2025-04-03T09:58:32.361998Z",
     "shell.execute_reply": "2025-04-03T09:58:32.361142Z",
     "shell.execute_reply.started": "2025-04-03T09:58:32.18559Z"
    },
    "trusted": true
   },
   "outputs": [],
   "source": [
    "# Define a retry policy. The model might make multiple consecutive calls automatically\n",
    "# for a complex query, this ensures the client retries if it hits quota limits.\n",
    "from google.api_core import retry\n",
    "\n",
    "is_retriable = lambda e: (isinstance(e, genai.errors.APIError) and e.code in {429, 503})\n",
    "\n",
    "if not hasattr(genai.models.Models.generate_content, '__wrapped__'):\n",
    "  genai.models.Models.generate_content = retry.Retry(\n",
    "      predicate=is_retriable)(genai.models.Models.generate_content)"
   ]
  },
  {
   "cell_type": "markdown",
   "metadata": {
    "id": "Rvre6fOrcHi2"
   },
   "source": [
    "## Use search grounding\n",
    "\n",
    "### Model support\n",
    "\n",
    "Search grounding is available in a limited set of models. Find a model that supports it on [the models page](https://ai.google.dev/gemini-api/docs/models/gemini).\n",
    "\n",
    "In this guide, you'll use `gemini-2.0-flash`."
   ]
  },
  {
   "cell_type": "markdown",
   "metadata": {
    "id": "HW5RVNUierrQ"
   },
   "source": [
    "### Make a request\n",
    "\n",
    "To enable search grounding, you specify it as a tool: `google_search`. Like other tools, this is supplied as a parameter in `GenerateContentConfig`, and can be passed to `generate_content` calls as well as `chats.create` (for all chat turns) or `chat.send_message` (for specific turns).\n",
    "\n",
    "\n",
    "<table align=left>\n",
    "  <td>\n",
    "    <a target=\"_blank\" href=\"https://aistudio.google.com/app/prompts/1GTkO-gH4vd6G7LpBJ6Ay7U1OaJer7yDD\"><img src=\"https://ai.google.dev/site-assets/images/marketing/home/icon-ais.png\" style=\"height: 24px\" height=24/> Open in AI Studio</a>\n",
    "  </td>\n",
    "</table>"
   ]
  },
  {
   "cell_type": "code",
   "execution_count": 4,
   "metadata": {
    "execution": {
     "iopub.execute_input": "2025-04-03T09:58:32.363783Z",
     "iopub.status.busy": "2025-04-03T09:58:32.363299Z",
     "iopub.status.idle": "2025-04-03T09:58:33.200317Z",
     "shell.execute_reply": "2025-04-03T09:58:33.199271Z",
     "shell.execute_reply.started": "2025-04-03T09:58:32.363749Z"
    },
    "id": "JZmdaOlVfCgd",
    "trusted": true
   },
   "outputs": [
    {
     "data": {
      "text/markdown": [
       "Billie Eilish doesn't currently have any upcoming concerts scheduled. Her last performance was on October 28, 2023, at the Austin City Limits Music Festival in Austin, TX.\n"
      ],
      "text/plain": [
       "<IPython.core.display.Markdown object>"
      ]
     },
     "execution_count": 4,
     "metadata": {},
     "output_type": "execute_result"
    }
   ],
   "source": [
    "# Ask for information without search grounding.\n",
    "response = client.models.generate_content(\n",
    "    model='gemini-2.0-flash',\n",
    "    contents=\"When and where is Billie Eilish's next concert?\")\n",
    "\n",
    "Markdown(response.text)"
   ]
  },
  {
   "cell_type": "markdown",
   "metadata": {},
   "source": [
    "Now try with grounding enabled.\n",
    "\n",
    "<table align=left>\n",
    "  <td>\n",
    "    <a target=\"_blank\" href=\"https://aistudio.google.com/prompts/14lDR0VjSni6BEUCZUBqj5PzTn3J194Th\"><img src=\"https://ai.google.dev/site-assets/images/marketing/home/icon-ais.png\" style=\"height: 24px\" height=24/> Open in AI Studio</a>\n",
    "  </td>\n",
    "</table>"
   ]
  },
  {
   "cell_type": "code",
   "execution_count": 5,
   "metadata": {
    "execution": {
     "iopub.execute_input": "2025-04-03T10:06:10.714952Z",
     "iopub.status.busy": "2025-04-03T10:06:10.714532Z",
     "iopub.status.idle": "2025-04-03T10:06:12.996772Z",
     "shell.execute_reply": "2025-04-03T10:06:12.995712Z",
     "shell.execute_reply.started": "2025-04-03T10:06:10.714915Z"
    },
    "id": "i7jqG3nww6kU",
    "trusted": true
   },
   "outputs": [
    {
     "data": {
      "text/markdown": [
       "Billie Eilish is currently on her \"Hit Me Hard and Soft Tour\", which has been extended with final dates in November 2025.\n",
       "\n",
       "Here's a list of her upcoming concerts:\n",
       "*   November 7, 2025 at Smoothie King Center in New Orleans, LA\n",
       "*   November 8, 2025 at Smoothie King Center in New Orleans, LA\n",
       "*   November 10, 2025 at BOK Center in Tulsa, OK\n",
       "*   November 11, 2025 at BOK Center in Tulsa, OK\n",
       "*   November 13, 2025 at Moody Center ATX in Austin, TX\n",
       "*   November 14, 2025 at Moody Center ATX in Austin, TX\n",
       "*   November 18, 2025 at Mortgage Matchup Center (formerly PHX Arena) in Phoenix, AZ\n",
       "*   November 19, 2025 at Mortgage Matchup Center (formerly PHX Arena) in Phoenix, AZ\n",
       "*   November 22, 2025 at Chase Center in San Francisco, CA\n",
       "*   November 23, 2025 at Chase Center in San Francisco, CA"
      ],
      "text/plain": [
       "<IPython.core.display.Markdown object>"
      ]
     },
     "execution_count": 5,
     "metadata": {},
     "output_type": "execute_result"
    }
   ],
   "source": [
    "# And now re-run the same query with search grounding enabled.\n",
    "config_with_search = types.GenerateContentConfig(\n",
    "    tools=[types.Tool(google_search=types.GoogleSearch())],\n",
    ")\n",
    "\n",
    "def query_with_grounding():\n",
    "    response = client.models.generate_content(\n",
    "        model='gemini-2.0-flash',\n",
    "        contents=\"When and where is Billie Eilish's next concert?\",\n",
    "        config=config_with_search,\n",
    "    )\n",
    "    return response.candidates[0]\n",
    "\n",
    "\n",
    "rc = query_with_grounding()\n",
    "Markdown(rc.content.parts[0].text)"
   ]
  },
  {
   "cell_type": "markdown",
   "metadata": {
    "id": "SJc_0FFBgoiJ"
   },
   "source": [
    "### Response metadata\n",
    "\n",
    "When search grounding is used, the model returns extra metadata that includes links to search suggestions, supporting documents and information on how the supporting documents were used.\n",
    "\n",
    "Each \"grounding chunk\" represents information retrieved from Google Search that was used in the grounded generation request. Following the URI will take you to the source."
   ]
  },
  {
   "cell_type": "code",
   "execution_count": 6,
   "metadata": {
    "execution": {
     "iopub.execute_input": "2025-04-03T10:06:16.348902Z",
     "iopub.status.busy": "2025-04-03T10:06:16.348495Z",
     "iopub.status.idle": "2025-04-03T10:06:16.355194Z",
     "shell.execute_reply": "2025-04-03T10:06:16.354002Z",
     "shell.execute_reply.started": "2025-04-03T10:06:16.348868Z"
    },
    "id": "2P7IYMcvxtcy",
    "trusted": true
   },
   "outputs": [
    {
     "name": "stdout",
     "output_type": "stream",
     "text": [
      "zoombangla.com: https://vertexaisearch.cloud.google.com/grounding-api-redirect/AUZIYQEhVzs7yNFLGjm_gzyp9NT9MLjz1VIBDCe0CPqnv1eNMrnfNrx0sgo03U62hbZFNA1A7_w8UY_Ef2XrbMmCIt8tKhgMvpSV7KlcpBckl7F9YKtzLHjwEjKXEZ87xziDq66mLg2OnlLVGqXvVbncLYIXK9ytWJYc4qQDynLmjQ==\n",
      "seatgeek.com: https://vertexaisearch.cloud.google.com/grounding-api-redirect/AUZIYQGOUA7QwLc9azAlOyqRs-W8_IxhtpI86mym5LuKBjzEemICTNhoID_v-XNRN4Tr-tqC1qBvUbpC8TqEATb89OQMN78hSC8nlsGiRqzqbL_XM-hGz4OHAj002RybgifhZSU3HbA6EA==\n",
      "ticketmaster.com: https://vertexaisearch.cloud.google.com/grounding-api-redirect/AUZIYQFz_nZ87c7KzgPH4YH49WA87L9WCctyXP1_5R6YlxE5yYOjdxs0bw4zijkV6UegoVOStVlQviUEVEsnUhQxD57ZlXfEC14tFhdMwC6FtaKZAVCXQoqN0k1xsVBLDGStJl2omq8AbqpPaHiB7uon90HvJkZLbpcshg840iM6\n",
      "vividseats.com: https://vertexaisearch.cloud.google.com/grounding-api-redirect/AUZIYQFYuFdgMkCAyS_sV5sIkg4i08kZUOKGlzmDQWKaaFGQF0FYVzSLu5399iwQOIhhETORSOTIYChHkOL86QxEJIQ3RdDgGqvmsmasf_RJMuk2I1ejAvgU0tyQKE4jRftXz_72Rx673cou04BibQsUKGZsQ3Pnd-lC3rowPGs=\n",
      "livenation.com: https://vertexaisearch.cloud.google.com/grounding-api-redirect/AUZIYQH4ihC0-fjGN4dJ0YESqECGCrDkJnTlTOS2pa40cBQMqWUHFG4NrYWyl5mhx12YT56INojadhNpkJkXBvvxoItwJYoIb5GAfZ6XgtQAhicOOfxxfSJmu9S60Gpa4U_OrvRF9Kdndu6rujDvoGnCa-JtJCxk4pp7Ujpa1ySfUg==\n"
     ]
    }
   ],
   "source": [
    "while not rc.grounding_metadata.grounding_supports or not rc.grounding_metadata.grounding_chunks:\n",
    "    # If incomplete grounding data was returned, retry.\n",
    "    rc = query_with_grounding()\n",
    "\n",
    "chunks = rc.grounding_metadata.grounding_chunks\n",
    "for chunk in chunks:\n",
    "    print(f'{chunk.web.title}: {chunk.web.uri}')"
   ]
  },
  {
   "cell_type": "markdown",
   "metadata": {
    "id": "ziYb2Fkjzwwx"
   },
   "source": [
    "As part of the response, there is a standalone styled HTML content block that you use to link back to relevant search suggestions related to the generation."
   ]
  },
  {
   "cell_type": "code",
   "execution_count": 7,
   "metadata": {
    "execution": {
     "iopub.status.busy": "2025-04-03T09:51:45.325784Z",
     "iopub.status.idle": "2025-04-03T09:51:45.326372Z",
     "shell.execute_reply": "2025-04-03T09:51:45.326106Z",
     "shell.execute_reply.started": "2025-04-03T09:51:45.326076Z"
    },
    "id": "DQAgIGJmfxqC",
    "trusted": true
   },
   "outputs": [
    {
     "data": {
      "text/html": [
       "<style>\n",
       ".container {\n",
       "  align-items: center;\n",
       "  border-radius: 8px;\n",
       "  display: flex;\n",
       "  font-family: Google Sans, Roboto, sans-serif;\n",
       "  font-size: 14px;\n",
       "  line-height: 20px;\n",
       "  padding: 8px 12px;\n",
       "}\n",
       ".chip {\n",
       "  display: inline-block;\n",
       "  border: solid 1px;\n",
       "  border-radius: 16px;\n",
       "  min-width: 14px;\n",
       "  padding: 5px 16px;\n",
       "  text-align: center;\n",
       "  user-select: none;\n",
       "  margin: 0 8px;\n",
       "  -webkit-tap-highlight-color: transparent;\n",
       "}\n",
       ".carousel {\n",
       "  overflow: auto;\n",
       "  scrollbar-width: none;\n",
       "  white-space: nowrap;\n",
       "  margin-right: -12px;\n",
       "}\n",
       ".headline {\n",
       "  display: flex;\n",
       "  margin-right: 4px;\n",
       "}\n",
       ".gradient-container {\n",
       "  position: relative;\n",
       "}\n",
       ".gradient {\n",
       "  position: absolute;\n",
       "  transform: translate(3px, -9px);\n",
       "  height: 36px;\n",
       "  width: 9px;\n",
       "}\n",
       "@media (prefers-color-scheme: light) {\n",
       "  .container {\n",
       "    background-color: #fafafa;\n",
       "    box-shadow: 0 0 0 1px #0000000f;\n",
       "  }\n",
       "  .headline-label {\n",
       "    color: #1f1f1f;\n",
       "  }\n",
       "  .chip {\n",
       "    background-color: #ffffff;\n",
       "    border-color: #d2d2d2;\n",
       "    color: #5e5e5e;\n",
       "    text-decoration: none;\n",
       "  }\n",
       "  .chip:hover {\n",
       "    background-color: #f2f2f2;\n",
       "  }\n",
       "  .chip:focus {\n",
       "    background-color: #f2f2f2;\n",
       "  }\n",
       "  .chip:active {\n",
       "    background-color: #d8d8d8;\n",
       "    border-color: #b6b6b6;\n",
       "  }\n",
       "  .logo-dark {\n",
       "    display: none;\n",
       "  }\n",
       "  .gradient {\n",
       "    background: linear-gradient(90deg, #fafafa 15%, #fafafa00 100%);\n",
       "  }\n",
       "}\n",
       "@media (prefers-color-scheme: dark) {\n",
       "  .container {\n",
       "    background-color: #1f1f1f;\n",
       "    box-shadow: 0 0 0 1px #ffffff26;\n",
       "  }\n",
       "  .headline-label {\n",
       "    color: #fff;\n",
       "  }\n",
       "  .chip {\n",
       "    background-color: #2c2c2c;\n",
       "    border-color: #3c4043;\n",
       "    color: #fff;\n",
       "    text-decoration: none;\n",
       "  }\n",
       "  .chip:hover {\n",
       "    background-color: #353536;\n",
       "  }\n",
       "  .chip:focus {\n",
       "    background-color: #353536;\n",
       "  }\n",
       "  .chip:active {\n",
       "    background-color: #464849;\n",
       "    border-color: #53575b;\n",
       "  }\n",
       "  .logo-light {\n",
       "    display: none;\n",
       "  }\n",
       "  .gradient {\n",
       "    background: linear-gradient(90deg, #1f1f1f 15%, #1f1f1f00 100%);\n",
       "  }\n",
       "}\n",
       "</style>\n",
       "<div class=\"container\">\n",
       "  <div class=\"headline\">\n",
       "    <svg class=\"logo-light\" width=\"18\" height=\"18\" viewBox=\"9 9 35 35\" fill=\"none\" xmlns=\"http://www.w3.org/2000/svg\">\n",
       "      <path fill-rule=\"evenodd\" clip-rule=\"evenodd\" d=\"M42.8622 27.0064C42.8622 25.7839 42.7525 24.6084 42.5487 23.4799H26.3109V30.1568H35.5897C35.1821 32.3041 33.9596 34.1222 32.1258 35.3448V39.6864H37.7213C40.9814 36.677 42.8622 32.2571 42.8622 27.0064V27.0064Z\" fill=\"#4285F4\"/>\n",
       "      <path fill-rule=\"evenodd\" clip-rule=\"evenodd\" d=\"M26.3109 43.8555C30.9659 43.8555 34.8687 42.3195 37.7213 39.6863L32.1258 35.3447C30.5898 36.3792 28.6306 37.0061 26.3109 37.0061C21.8282 37.0061 18.0195 33.9811 16.6559 29.906H10.9194V34.3573C13.7563 39.9841 19.5712 43.8555 26.3109 43.8555V43.8555Z\" fill=\"#34A853\"/>\n",
       "      <path fill-rule=\"evenodd\" clip-rule=\"evenodd\" d=\"M16.6559 29.8904C16.3111 28.8559 16.1074 27.7588 16.1074 26.6146C16.1074 25.4704 16.3111 24.3733 16.6559 23.3388V18.8875H10.9194C9.74388 21.2072 9.06992 23.8247 9.06992 26.6146C9.06992 29.4045 9.74388 32.022 10.9194 34.3417L15.3864 30.8621L16.6559 29.8904V29.8904Z\" fill=\"#FBBC05\"/>\n",
       "      <path fill-rule=\"evenodd\" clip-rule=\"evenodd\" d=\"M26.3109 16.2386C28.85 16.2386 31.107 17.1164 32.9095 18.8091L37.8466 13.8719C34.853 11.082 30.9659 9.3736 26.3109 9.3736C19.5712 9.3736 13.7563 13.245 10.9194 18.8875L16.6559 23.3388C18.0195 19.2636 21.8282 16.2386 26.3109 16.2386V16.2386Z\" fill=\"#EA4335\"/>\n",
       "    </svg>\n",
       "    <svg class=\"logo-dark\" width=\"18\" height=\"18\" viewBox=\"0 0 48 48\" xmlns=\"http://www.w3.org/2000/svg\">\n",
       "      <circle cx=\"24\" cy=\"23\" fill=\"#FFF\" r=\"22\"/>\n",
       "      <path d=\"M33.76 34.26c2.75-2.56 4.49-6.37 4.49-11.26 0-.89-.08-1.84-.29-3H24.01v5.99h8.03c-.4 2.02-1.5 3.56-3.07 4.56v.75l3.91 2.97h.88z\" fill=\"#4285F4\"/>\n",
       "      <path d=\"M15.58 25.77A8.845 8.845 0 0 0 24 31.86c1.92 0 3.62-.46 4.97-1.31l4.79 3.71C31.14 36.7 27.65 38 24 38c-5.93 0-11.01-3.4-13.45-8.36l.17-1.01 4.06-2.85h.8z\" fill=\"#34A853\"/>\n",
       "      <path d=\"M15.59 20.21a8.864 8.864 0 0 0 0 5.58l-5.03 3.86c-.98-2-1.53-4.25-1.53-6.64 0-2.39.55-4.64 1.53-6.64l1-.22 3.81 2.98.22 1.08z\" fill=\"#FBBC05\"/>\n",
       "      <path d=\"M24 14.14c2.11 0 4.02.75 5.52 1.98l4.36-4.36C31.22 9.43 27.81 8 24 8c-5.93 0-11.01 3.4-13.45 8.36l5.03 3.85A8.86 8.86 0 0 1 24 14.14z\" fill=\"#EA4335\"/>\n",
       "    </svg>\n",
       "    <div class=\"gradient-container\"><div class=\"gradient\"></div></div>\n",
       "  </div>\n",
       "  <div class=\"carousel\">\n",
       "    <a class=\"chip\" href=\"https://vertexaisearch.cloud.google.com/grounding-api-redirect/AUZIYQG-gcKjt0GX5FOPoPhPFaFvk1uxFBWWLKCcv4Wz9Cs404Bs_0zNK5ZdzzulYjNyacaliovpqLRDAnGVrbB2gkp7cQt_iW2KHMiNV3sbCITci1lTz00QK8rJ7tZw2nHQPkqkszDeYVdzEPGq8O74CGUEBLZchQRGezCuTGfv1alzwk9_8qsK9lVwdqkm4sxHWX6z-HahjPBHniDT14ZXuZNH4Kc=\">Billie Eilish upcoming concerts</a>\n",
       "  </div>\n",
       "</div>\n"
      ],
      "text/plain": [
       "<IPython.core.display.HTML object>"
      ]
     },
     "execution_count": 7,
     "metadata": {},
     "output_type": "execute_result"
    }
   ],
   "source": [
    "HTML(rc.grounding_metadata.search_entry_point.rendered_content)"
   ]
  },
  {
   "cell_type": "markdown",
   "metadata": {
    "id": "pJpqJopp0H0M"
   },
   "source": [
    "The `grounding_supports` in the metadata provide a way for you to correlate the grounding chunks used to the generated output text."
   ]
  },
  {
   "cell_type": "code",
   "execution_count": 8,
   "metadata": {
    "execution": {
     "iopub.execute_input": "2025-04-03T10:06:19.448041Z",
     "iopub.status.busy": "2025-04-03T10:06:19.447653Z",
     "iopub.status.idle": "2025-04-03T10:06:19.455269Z",
     "shell.execute_reply": "2025-04-03T10:06:19.454225Z",
     "shell.execute_reply.started": "2025-04-03T10:06:19.448006Z"
    },
    "id": "sHg9Yq9U0r89",
    "trusted": true
   },
   "outputs": [
    {
     "name": "stdout",
     "output_type": "stream",
     "text": [
      "{'confidence_scores': [0.9499679],\n",
      " 'grounding_chunk_indices': [0],\n",
      " 'segment': {'end_index': 120,\n",
      "             'text': 'Billie Eilish is currently on her \"Hit Me Hard and Soft '\n",
      "                     'Tour\", which has been extended with final dates in '\n",
      "                     'November 2025'}}\n",
      "{'confidence_scores': [0.7855032, 0.86077404, 0.58288693, 0.114737175],\n",
      " 'grounding_chunk_indices': [1, 2, 3, 4],\n",
      " 'segment': {'end_index': 226,\n",
      "             'start_index': 123,\n",
      "             'text': \"Here's a list of her upcoming concerts:\\n\"\n",
      "                     '*   November 7, 2025 at Smoothie King Center in New '\n",
      "                     'Orleans, LA'}}\n",
      "{'confidence_scores': [0.9226453, 0.74005514, 0.1758244, 0.056894954],\n",
      " 'grounding_chunk_indices': [1, 2, 3, 4],\n",
      " 'segment': {'end_index': 290,\n",
      "             'start_index': 227,\n",
      "             'text': '*   November 8, 2025 at Smoothie King Center in New '\n",
      "                     'Orleans, LA'}}\n",
      "{'confidence_scores': [0.8740906, 0.9285457, 0.45343795, 0.3008204],\n",
      " 'grounding_chunk_indices': [2, 1, 3, 4],\n",
      " 'segment': {'end_index': 339,\n",
      "             'start_index': 291,\n",
      "             'text': '*   November 10, 2025 at BOK Center in Tulsa, OK'}}\n",
      "{'confidence_scores': [0.9254558, 0.8638509, 0.2985124, 0.4376936],\n",
      " 'grounding_chunk_indices': [2, 1, 3, 4],\n",
      " 'segment': {'end_index': 388,\n",
      "             'start_index': 340,\n",
      "             'text': '*   November 11, 2025 at BOK Center in Tulsa, OK'}}\n",
      "{'confidence_scores': [0.0073404806, 0.9273401, 0.29498258],\n",
      " 'grounding_chunk_indices': [2, 1, 4],\n",
      " 'segment': {'end_index': 444,\n",
      "             'start_index': 389,\n",
      "             'text': '*   November 13, 2025 at Moody Center ATX in Austin, TX'}}\n",
      "{'confidence_scores': [0.006235513, 0.33949035, 0.34550482],\n",
      " 'grounding_chunk_indices': [2, 3, 4],\n",
      " 'segment': {'end_index': 500,\n",
      "             'start_index': 445,\n",
      "             'text': '*   November 14, 2025 at Moody Center ATX in Austin, TX'}}\n",
      "{'confidence_scores': [0.0039778035, 0.28365922, 0.32008728],\n",
      " 'grounding_chunk_indices': [2, 3, 4],\n",
      " 'segment': {'end_index': 585,\n",
      "             'start_index': 501,\n",
      "             'text': '*   November 18, 2025 at Mortgage Matchup Center '\n",
      "                     '(formerly PHX Arena) in Phoenix, AZ'}}\n",
      "{'confidence_scores': [0.0038313533, 0.14712204, 0.35474446],\n",
      " 'grounding_chunk_indices': [2, 3, 4],\n",
      " 'segment': {'end_index': 670,\n",
      "             'start_index': 586,\n",
      "             'text': '*   November 19, 2025 at Mortgage Matchup Center '\n",
      "                     '(formerly PHX Arena) in Phoenix, AZ'}}\n",
      "{'confidence_scores': [0.01046872, 0.21933657, 0.16243595],\n",
      " 'grounding_chunk_indices': [2, 3, 4],\n",
      " 'segment': {'end_index': 729,\n",
      "             'start_index': 671,\n",
      "             'text': '*   November 22, 2025 at Chase Center in San Francisco, '\n",
      "                     'CA'}}\n",
      "{'confidence_scores': [0.010527387, 0.85632074, 0.23448505],\n",
      " 'grounding_chunk_indices': [2, 3, 4],\n",
      " 'segment': {'end_index': 788,\n",
      "             'start_index': 730,\n",
      "             'text': '*   November 23, 2025 at Chase Center in San Francisco, '\n",
      "                     'CA'}}\n"
     ]
    }
   ],
   "source": [
    "from pprint import pprint\n",
    "\n",
    "supports = rc.grounding_metadata.grounding_supports\n",
    "for support in supports:\n",
    "    pprint(support.to_json_dict())"
   ]
  },
  {
   "cell_type": "markdown",
   "metadata": {
    "id": "wkQAGyi87FGn"
   },
   "source": [
    "These supports can be used to highlight text in the response, or build tables of footnotes."
   ]
  },
  {
   "cell_type": "code",
   "execution_count": 9,
   "metadata": {
    "execution": {
     "iopub.execute_input": "2025-04-03T10:06:21.641418Z",
     "iopub.status.busy": "2025-04-03T10:06:21.640644Z",
     "iopub.status.idle": "2025-04-03T10:06:21.650514Z",
     "shell.execute_reply": "2025-04-03T10:06:21.64942Z",
     "shell.execute_reply.started": "2025-04-03T10:06:21.641377Z"
    },
    "id": "9_dEINt43C62",
    "trusted": true
   },
   "outputs": [
    {
     "data": {
      "text/markdown": [
       "Supported text:\n",
       "\n",
       " * Billie Eilish is currently on her \"Hit Me Hard and Soft Tour\", which has been extended with final dates in November 2025<sup>[1]</sup>\n",
       "\n",
       " * Here's a list of her upcoming concerts:\n",
       "*   November 7, 2025 at Smoothie King Center in New Orleans, LA<sup>[2]</sup><sup>[3]</sup><sup>[4]</sup><sup>[5]</sup>\n",
       "\n",
       " * *   November 8, 2025 at Smoothie King Center in New Orleans, LA<sup>[2]</sup><sup>[3]</sup><sup>[4]</sup><sup>[5]</sup>\n",
       "\n",
       " * *   November 10, 2025 at BOK Center in Tulsa, OK<sup>[3]</sup><sup>[2]</sup><sup>[4]</sup><sup>[5]</sup>\n",
       "\n",
       " * *   November 11, 2025 at BOK Center in Tulsa, OK<sup>[3]</sup><sup>[2]</sup><sup>[4]</sup><sup>[5]</sup>\n",
       "\n",
       " * *   November 13, 2025 at Moody Center ATX in Austin, TX<sup>[3]</sup><sup>[2]</sup><sup>[5]</sup>\n",
       "\n",
       " * *   November 14, 2025 at Moody Center ATX in Austin, TX<sup>[3]</sup><sup>[4]</sup><sup>[5]</sup>\n",
       "\n",
       " * *   November 18, 2025 at Mortgage Matchup Center (formerly PHX Arena) in Phoenix, AZ<sup>[3]</sup><sup>[4]</sup><sup>[5]</sup>\n",
       "\n",
       " * *   November 19, 2025 at Mortgage Matchup Center (formerly PHX Arena) in Phoenix, AZ<sup>[3]</sup><sup>[4]</sup><sup>[5]</sup>\n",
       "\n",
       " * *   November 22, 2025 at Chase Center in San Francisco, CA<sup>[3]</sup><sup>[4]</sup><sup>[5]</sup>\n",
       "\n",
       " * *   November 23, 2025 at Chase Center in San Francisco, CA<sup>[3]</sup><sup>[4]</sup><sup>[5]</sup>\n",
       "\n",
       "Citations:\n",
       "\n",
       "1. [zoombangla.com](https://vertexaisearch.cloud.google.com/grounding-api-redirect/AUZIYQEhVzs7yNFLGjm_gzyp9NT9MLjz1VIBDCe0CPqnv1eNMrnfNrx0sgo03U62hbZFNA1A7_w8UY_Ef2XrbMmCIt8tKhgMvpSV7KlcpBckl7F9YKtzLHjwEjKXEZ87xziDq66mLg2OnlLVGqXvVbncLYIXK9ytWJYc4qQDynLmjQ==)\n",
       "2. [seatgeek.com](https://vertexaisearch.cloud.google.com/grounding-api-redirect/AUZIYQGOUA7QwLc9azAlOyqRs-W8_IxhtpI86mym5LuKBjzEemICTNhoID_v-XNRN4Tr-tqC1qBvUbpC8TqEATb89OQMN78hSC8nlsGiRqzqbL_XM-hGz4OHAj002RybgifhZSU3HbA6EA==)\n",
       "3. [ticketmaster.com](https://vertexaisearch.cloud.google.com/grounding-api-redirect/AUZIYQFz_nZ87c7KzgPH4YH49WA87L9WCctyXP1_5R6YlxE5yYOjdxs0bw4zijkV6UegoVOStVlQviUEVEsnUhQxD57ZlXfEC14tFhdMwC6FtaKZAVCXQoqN0k1xsVBLDGStJl2omq8AbqpPaHiB7uon90HvJkZLbpcshg840iM6)\n",
       "4. [vividseats.com](https://vertexaisearch.cloud.google.com/grounding-api-redirect/AUZIYQFYuFdgMkCAyS_sV5sIkg4i08kZUOKGlzmDQWKaaFGQF0FYVzSLu5399iwQOIhhETORSOTIYChHkOL86QxEJIQ3RdDgGqvmsmasf_RJMuk2I1ejAvgU0tyQKE4jRftXz_72Rx673cou04BibQsUKGZsQ3Pnd-lC3rowPGs=)\n",
       "5. [livenation.com](https://vertexaisearch.cloud.google.com/grounding-api-redirect/AUZIYQH4ihC0-fjGN4dJ0YESqECGCrDkJnTlTOS2pa40cBQMqWUHFG4NrYWyl5mhx12YT56INojadhNpkJkXBvvxoItwJYoIb5GAfZ6XgtQAhicOOfxxfSJmu9S60Gpa4U_OrvRF9Kdndu6rujDvoGnCa-JtJCxk4pp7Ujpa1ySfUg==)\n"
      ],
      "text/plain": [
       "<IPython.core.display.Markdown object>"
      ]
     },
     "execution_count": 9,
     "metadata": {},
     "output_type": "execute_result"
    }
   ],
   "source": [
    "import io\n",
    "\n",
    "markdown_buffer = io.StringIO()\n",
    "\n",
    "# Print the text with footnote markers.\n",
    "markdown_buffer.write(\"Supported text:\\n\\n\")\n",
    "for support in supports:\n",
    "    markdown_buffer.write(\" * \")\n",
    "    markdown_buffer.write(\n",
    "        rc.content.parts[0].text[support.segment.start_index : support.segment.end_index]\n",
    "    )\n",
    "\n",
    "    for i in support.grounding_chunk_indices:\n",
    "        chunk = chunks[i].web\n",
    "        markdown_buffer.write(f\"<sup>[{i+1}]</sup>\")\n",
    "\n",
    "    markdown_buffer.write(\"\\n\\n\")\n",
    "\n",
    "\n",
    "# And print the footnotes.\n",
    "markdown_buffer.write(\"Citations:\\n\\n\")\n",
    "for i, chunk in enumerate(chunks, start=1):\n",
    "    markdown_buffer.write(f\"{i}. [{chunk.web.title}]({chunk.web.uri})\\n\")\n",
    "\n",
    "\n",
    "Markdown(markdown_buffer.getvalue())"
   ]
  },
  {
   "cell_type": "markdown",
   "metadata": {},
   "source": [
    "## Search with tools\n",
    "\n",
    "In this example, you'll use enable the Google Search grounding tool and the code generation tool across two steps. In the first step, the model will use Google Search to find the requested information and then in the follow-up question, it generates code to plot the results.\n",
    "\n",
    "This usage includes textual, visual and code parts, so first define a function to help visualise these."
   ]
  },
  {
   "cell_type": "code",
   "execution_count": 10,
   "metadata": {
    "execution": {
     "iopub.execute_input": "2025-04-03T10:06:32.137085Z",
     "iopub.status.busy": "2025-04-03T10:06:32.135955Z",
     "iopub.status.idle": "2025-04-03T10:06:32.144267Z",
     "shell.execute_reply": "2025-04-03T10:06:32.143171Z",
     "shell.execute_reply.started": "2025-04-03T10:06:32.137025Z"
    },
    "trusted": true
   },
   "outputs": [],
   "source": [
    "from IPython.display import display, Image, Markdown\n",
    "\n",
    "def show_response(response):\n",
    "    for p in response.candidates[0].content.parts:\n",
    "        if p.text:\n",
    "            display(Markdown(p.text))\n",
    "        elif p.inline_data:\n",
    "            display(Image(p.inline_data.data))\n",
    "        else:\n",
    "            print(p.to_json_dict())\n",
    "    \n",
    "        display(Markdown('----'))"
   ]
  },
  {
   "cell_type": "markdown",
   "metadata": {},
   "source": [
    "Now start a chat asking for some information. Here you provide the Google Search tool so that the model can look up data from Google's Search index."
   ]
  },
  {
   "cell_type": "code",
   "execution_count": 11,
   "metadata": {
    "execution": {
     "iopub.execute_input": "2025-04-03T10:06:57.31568Z",
     "iopub.status.busy": "2025-04-03T10:06:57.31514Z",
     "iopub.status.idle": "2025-04-03T10:06:59.731547Z",
     "shell.execute_reply": "2025-04-03T10:06:59.730267Z",
     "shell.execute_reply.started": "2025-04-03T10:06:57.315631Z"
    },
    "trusted": true
   },
   "outputs": [
    {
     "data": {
      "text/markdown": [
       "Here are the top 10 countries by medal tally at the 2024 Paris Olympics:\n",
       "\n",
       "1.  **United States:** 40 Gold, 44 Silver, 42 Bronze, 126 Total\n",
       "2.  **China:** 40 Gold, 27 Silver, 24 Bronze, 91 Total\n",
       "3.  **Great Britain:** 14 Gold, 22 Silver, 29 Bronze, 65 Total\n",
       "4.  **France:** 16 Gold, 26 Silver, 22 Bronze, 64 Total\n",
       "5.  **Australia:** 18 Gold, 19 Silver, 16 Bronze, 53 Total\n",
       "6.  **Japan:** 20 Gold, 12 Silver, 13 Bronze, 45 Total\n",
       "7.  **Italy:** 12 Gold, 13 Silver, 15 Bronze, 40 Total\n",
       "8.  **Netherlands:** 15 Gold, 7 Silver, 12 Bronze, 34 Total\n",
       "9.  **Germany:** 12 Gold, 13 Silver, 8 Bronze, 33 Total\n",
       "10. **Republic of Korea:** 13 Gold, 9 Silver, 10 Bronze, 32 Total"
      ],
      "text/plain": [
       "<IPython.core.display.Markdown object>"
      ]
     },
     "metadata": {},
     "output_type": "display_data"
    },
    {
     "data": {
      "text/markdown": [
       "----"
      ],
      "text/plain": [
       "<IPython.core.display.Markdown object>"
      ]
     },
     "metadata": {},
     "output_type": "display_data"
    }
   ],
   "source": [
    "config_with_search = types.GenerateContentConfig(\n",
    "    tools=[types.Tool(google_search=types.GoogleSearch())],\n",
    "    temperature=0.0,\n",
    ")\n",
    "\n",
    "chat = client.chats.create(model='gemini-2.0-flash')\n",
    "\n",
    "response = chat.send_message(\n",
    "    message=\"What were the medal tallies, by top-10 countries, for the 2024 olympics?\",\n",
    "    config=config_with_search,\n",
    ")\n",
    "\n",
    "show_response(response)"
   ]
  },
  {
   "cell_type": "markdown",
   "metadata": {},
   "source": [
    "Continuing the chat, now ask the model to convert the data into a chart. The `code_execution` tool is able to generate code to draw charts, execute that code and return the image. You can see the executed code in the `executable_code` part of the response.\n",
    "\n",
    "Combining results from Google Search with tools like live plotting can enable very powerful use cases that require very little code to run."
   ]
  },
  {
   "cell_type": "code",
   "execution_count": 12,
   "metadata": {
    "execution": {
     "iopub.execute_input": "2025-04-03T10:06:59.733656Z",
     "iopub.status.busy": "2025-04-03T10:06:59.73333Z",
     "iopub.status.idle": "2025-04-03T10:07:04.594013Z",
     "shell.execute_reply": "2025-04-03T10:07:04.592928Z",
     "shell.execute_reply.started": "2025-04-03T10:06:59.733624Z"
    },
    "trusted": true
   },
   "outputs": [
    {
     "data": {
      "text/markdown": [
       "Okay, I can help you visualize the medal tally using a Seaborn chart. I'll create a stacked bar chart showing the gold, silver, and bronze medals for each of the top 10 countries.\n",
       "\n"
      ],
      "text/plain": [
       "<IPython.core.display.Markdown object>"
      ]
     },
     "metadata": {},
     "output_type": "display_data"
    },
    {
     "data": {
      "text/markdown": [
       "----"
      ],
      "text/plain": [
       "<IPython.core.display.Markdown object>"
      ]
     },
     "metadata": {},
     "output_type": "display_data"
    },
    {
     "name": "stdout",
     "output_type": "stream",
     "text": [
      "{'executable_code': {'code': \"import pandas as pd\\nimport matplotlib.pyplot as plt\\nimport seaborn as sns\\n\\n# Data from the previous response\\ndata = {\\n    'Country': ['United States', 'China', 'Great Britain', 'France', 'Australia', 'Japan', 'Italy', 'Netherlands', 'Germany', 'Republic of Korea'],\\n    'Gold': [40, 40, 14, 16, 18, 20, 12, 15, 12, 13],\\n    'Silver': [44, 27, 22, 26, 19, 12, 13, 7, 13, 9],\\n    'Bronze': [42, 24, 29, 22, 16, 13, 15, 12, 8, 10]\\n}\\n\\ndf = pd.DataFrame(data)\\n\\n# Melt the dataframe to make it suitable for a stacked bar chart\\ndf_melted = pd.melt(df, id_vars='Country', var_name='Medal', value_name='Count')\\n\\n# Create the stacked bar chart\\nplt.figure(figsize=(12, 8))  # Adjust figure size for better readability\\nsns.barplot(x='Country', y='Count', hue='Medal', data=df_melted, palette=['#FFD700', '#C0C0C0', '#CD7F32'])  # Gold, Silver, Bronze colors\\nplt.title('2024 Olympics Medal Tally (Top 10 Countries)')\\nplt.xlabel('Country')\\nplt.ylabel('Number of Medals')\\nplt.xticks(rotation=45, ha='right')  # Rotate x-axis labels for readability\\nplt.tight_layout()  # Adjust layout to prevent labels from overlapping\\nplt.show()\\n\", 'language': 'PYTHON'}}\n"
     ]
    },
    {
     "data": {
      "text/markdown": [
       "----"
      ],
      "text/plain": [
       "<IPython.core.display.Markdown object>"
      ]
     },
     "metadata": {},
     "output_type": "display_data"
    },
    {
     "data": {
      "image/png": "[encoded data removed]",
      "text/plain": [
       "<IPython.core.display.Image object>"
      ]
     },
     "metadata": {},
     "output_type": "display_data"
    },
    {
     "data": {
      "text/markdown": [
       "----"
      ],
      "text/plain": [
       "<IPython.core.display.Markdown object>"
      ]
     },
     "metadata": {},
     "output_type": "display_data"
    },
    {
     "data": {
      "text/markdown": [
       "The stacked bar chart visualizes the medal distribution for the top 10 countries at the 2024 Olympics. Each country has a bar divided into gold, silver, and bronze sections, making it easy to compare their medal counts. The chart clearly shows the United States and China leading in total medals, with a more detailed breakdown of each medal type for all countries.\n"
      ],
      "text/plain": [
       "<IPython.core.display.Markdown object>"
      ]
     },
     "metadata": {},
     "output_type": "display_data"
    },
    {
     "data": {
      "text/markdown": [
       "----"
      ],
      "text/plain": [
       "<IPython.core.display.Markdown object>"
      ]
     },
     "metadata": {},
     "output_type": "display_data"
    }
   ],
   "source": [
    "config_with_code = types.GenerateContentConfig(\n",
    "    tools=[types.Tool(code_execution=types.ToolCodeExecution())],\n",
    "    temperature=0.0,\n",
    ")\n",
    "\n",
    "response = chat.send_message(\n",
    "    message=\"Now plot this as a seaborn chart. Break out the medals too.\",\n",
    "    config=config_with_code,\n",
    ")\n",
    "\n",
    "show_response(response)"
   ]
  },
  {
   "cell_type": "markdown",
   "metadata": {
    "id": "Cp7gvdM-zOf0"
   },
   "source": [
    "## Further reading\n",
    "\n",
    "When using search grounding, there are some specific requirements that you must follow, including when and how to show search suggestions, and how to use the grounding links.  Be sure to read and follow the details in the [search grounding capability guide](https://ai.google.dev/gemini-api/docs/grounding) and the [search suggestions guide](https://ai.google.dev/gemini-api/docs/grounding/search-suggestions).\n",
    "\n",
    "Also check out some more compelling examples of using search grounding with the Live API in the [cookbook](https://github.com/google-gemini/cookbook/), like [this example that uses Google Maps to plot Search results on a map](https://github.com/google-gemini/cookbook/blob/main/examples/LiveAPI_plotting_and_mapping.ipynb) in an audio conversation, or [this example](https://github.com/google-gemini/cookbook/blob/main/examples/Search_grounding_for_research_report.ipynb) that builds a comprehensive research report.\n",
    "\n",
    "*- [Mark McD](https://linktr.ee/markmcd)*"
   ]
  }
 ],
 "metadata": {
  "colab": {
   "name": "day-4-google-search-grounding.ipynb",
   "toc_visible": true
  },
  "kaggle": {
   "accelerator": "none",
   "dataSources": [],
   "dockerImageVersionId": 30786,
   "isGpuEnabled": false,
   "isInternetEnabled": true,
   "language": "python",
   "sourceType": "notebook"
  },
  "kernelspec": {
   "display_name": "kaggle_env",
   "language": "python",
   "name": "python3"
  },
  "language_info": {
   "codemirror_mode": {
    "name": "ipython",
    "version": 3
   },
   "file_extension": ".py",
   "mimetype": "text/x-python",
   "name": "python",
   "nbconvert_exporter": "python",
   "pygments_lexer": "ipython3",
   "version": "3.10.19"
  }
 },
 "nbformat": 4,
 "nbformat_minor": 4
}
