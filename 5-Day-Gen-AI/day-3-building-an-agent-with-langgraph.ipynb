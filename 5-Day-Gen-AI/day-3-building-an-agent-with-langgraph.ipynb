{
 "cells": [
  {
   "cell_type": "markdown",
   "metadata": {
    "id": "b6e13eef3f5d"
   },
   "source": [
    "##### Copyright 2025 Google LLC."
   ]
  },
  {
   "cell_type": "code",
   "execution_count": null,
   "metadata": {
    "cellView": "form",
    "execution": {
     "iopub.execute_input": "2025-04-01T07:59:55.529312Z",
     "iopub.status.busy": "2025-04-01T07:59:55.528895Z",
     "iopub.status.idle": "2025-04-01T07:59:55.534256Z",
     "shell.execute_reply": "2025-04-01T07:59:55.533089Z",
     "shell.execute_reply.started": "2025-04-01T07:59:55.529274Z"
    },
    "id": "d6597b11df14",
    "jupyter": {
     "source_hidden": true
    },
    "trusted": true
   },
   "outputs": [],
   "source": [
    "# @title Licensed under the Apache License, Version 2.0 (the \"License\");\n",
    "# you may not use this file except in compliance with the License.\n",
    "# You may obtain a copy of the License at\n",
    "#\n",
    "# https://www.apache.org/licenses/LICENSE-2.0\n",
    "#\n",
    "# Unless required by applicable law or agreed to in writing, software\n",
    "# distributed under the License is distributed on an \"AS IS\" BASIS,\n",
    "# WITHOUT WARRANTIES OR CONDITIONS OF ANY KIND, either express or implied.\n",
    "# See the License for the specific language governing permissions and\n",
    "# limitations under the License."
   ]
  },
  {
   "cell_type": "markdown",
   "metadata": {
    "id": "KDnGropl9aiH"
   },
   "source": [
    "# Day 3 - Building an agent with LangGraph and the Gemini API\n",
    "\n",
    "Welcome back to the Kaggle 5-day Generative AI course!\n",
    "\n",
    "In this notebook, you will use [LangGraph](https://www.langchain.com/langgraph) to define a stateful graph-based application built on top of the Gemini API.\n",
    "\n",
    "You will build a simulated cafe ordering system, called BaristaBot. It will provide a looping chat interface to customers where they can order cafe beverages using natural language, and you will build nodes to represent the cafe's live menu and the \"back room\" ordering system.\n",
    "\n",
    "BaristaBot is used in other Gemini API demos, so if you are looking to explore something with a more minimal implementation, check out the [BaristaBot function calling example](https://github.com/google-gemini/cookbook/blob/main/examples/Agents_Function_Calling_Barista_Bot.ipynb) that implements a similar system using only the Gemini API Python SDK and function calling.\n",
    "\n",
    "## **IMPORTANT!**\n",
    "\n",
    "The app built in this notebook takes **user input** using a **text box** ([Python's `input`](https://docs.python.org/3/library/functions.html#input)). These are commented-out to ensure that you can use the `Run all` feature without interruption. Keep an eye out for the steps where you need to uncomment the `.invoke(...)` calls in order to interact with the app.\n",
    "\n",
    "If you wish to save a version of this notebook with `Save and Run all`, you will need to **re-comment** the lines you commented-out to ensure that the notebook can run without human input.\n",
    "\n",
    "## For help\n",
    "\n",
    "**Common issues are covered in the [FAQ and troubleshooting guide](https://www.kaggle.com/code/markishere/day-0-troubleshooting-and-faqs).**"
   ]
  },
  {
   "cell_type": "markdown",
   "metadata": {
    "id": "aKMOcAKnGBPL"
   },
   "source": [
    "## Get set up\n",
    "\n",
    "Start by installing and importing the LangGraph SDK and LangChain support for the Gemini API."
   ]
  },
  {
   "cell_type": "code",
   "execution_count": 1,
   "metadata": {
    "execution": {
     "iopub.execute_input": "2025-04-03T03:20:49.382305Z",
     "iopub.status.busy": "2025-04-03T03:20:49.381741Z",
     "iopub.status.idle": "2025-04-03T03:21:36.896509Z",
     "shell.execute_reply": "2025-04-03T03:21:36.894943Z",
     "shell.execute_reply.started": "2025-04-03T03:20:49.38226Z"
    },
    "id": "04fZ8d37ifOS",
    "trusted": true
   },
   "outputs": [],
   "source": [
    "# Remove conflicting packages from the Kaggle base environment.\n",
    "# !pip uninstall -qqy kfp jupyterlab libpysal thinc spacy fastai ydata-profiling google-cloud-bigquery google-generativeai\n",
    "# Install langgraph and the packages used in this lab.\n",
    "!pip install -qU 'langgraph==0.3.21' 'langchain-google-genai==2.1.2' 'langgraph-prebuilt==0.1.7'"
   ]
  },
  {
   "cell_type": "markdown",
   "metadata": {
    "id": "GecNc73VGfpk"
   },
   "source": [
    "### Set up your API key\n",
    "\n",
    "The `GOOGLE_API_KEY` environment variable can be set to automatically configure the underlying API. This works for both the official Gemini Python SDK and for LangChain/LangGraph. \n",
    "\n",
    "To run the following cell, your API key must be stored it in a [Kaggle secret](https://www.kaggle.com/discussions/product-feedback/114053) named `GOOGLE_API_KEY`.\n",
    "\n",
    "If you don't already have an API key, you can grab one from [AI Studio](https://aistudio.google.com/app/apikey). You can find [detailed instructions in the docs](https://ai.google.dev/gemini-api/docs/api-key).\n",
    "\n",
    "To make the key available through Kaggle secrets, choose `Secrets` from the `Add-ons` menu and follow the instructions to add your key or enable it for this notebook."
   ]
  },
  {
   "cell_type": "code",
   "execution_count": 2,
   "metadata": {
    "execution": {
     "iopub.execute_input": "2025-04-03T03:20:49.056932Z",
     "iopub.status.busy": "2025-04-03T03:20:49.056476Z",
     "iopub.status.idle": "2025-04-03T03:20:49.379857Z",
     "shell.execute_reply": "2025-04-03T03:20:49.378643Z",
     "shell.execute_reply.started": "2025-04-03T03:20:49.056871Z"
    },
    "id": "xaiioUQni_ga",
    "trusted": true
   },
   "outputs": [],
   "source": [
    "# import os\n",
    "# from kaggle_secrets import UserSecretsClient\n",
    "\n",
    "# GOOGLE_API_KEY = UserSecretsClient().get_secret(\"GOOGLE_API_KEY\")\n",
    "import os\n",
    "from dotenv import load_dotenv\n",
    "load_dotenv()\n",
    "\n",
    "GOOGLE_API_KEY= os.getenv(\"GOOGLE_API_KEY\")\n",
    "# os.environ[\"GOOGLE_API_KEY\"] = GOOGLE_API_KEY"
   ]
  },
  {
   "cell_type": "markdown",
   "metadata": {
    "id": "e67a91692d36"
   },
   "source": [
    "If you received an error response along the lines of `No user secrets exist for kernel id ...`, then you need to add your API key via `Add-ons`, `Secrets` **and** enable it.\n",
    "\n",
    "![Screenshot of the checkbox to enable GOOGLE_API_KEY secret](https://storage.googleapis.com/kaggle-media/Images/5gdai_sc_3.png)"
   ]
  },
  {
   "cell_type": "markdown",
   "metadata": {
    "jp-MarkdownHeadingCollapsed": true
   },
   "source": [
    "## Key concepts\n",
    "\n",
    "LangGraph applications are built around a **graph** structure. As the developer, you define an application graph that models the state transitions for your application. Your app will define a **state** schema, and an instance of that schema is propagated through the graph.\n",
    "\n",
    "Each **node** in the graph represents an action or step that can be taken. Nodes will make changes to the state in some way through code that you define. These changes can be the result of invoking an LLM, by calling an API, or executing any logic that the node defines.\n",
    "\n",
    "Each **edge** in the graph represents a transition between states, defining the flow of the program. Edge transitions can be fixed, for example if you define a text-only chatbot where output is always displayed to a user, you may always transition from `chatbot -> user`. The transitions can also be conditional, allowing you to add branching (like an `if-else` statement) or looping (like `for` or `while` loops).\n",
    "\n",
    "LangGraph is highly extensible and provides a number of features that are not part of this tutorial, such as memory, persistance and streaming. To better understand the key concepts and philophies behind LangGraph, check out their [Conceptual guides](https://langchain-ai.github.io/langgraph/concepts/) and [High-level overview](https://langchain-ai.github.io/langgraph/concepts/high_level/)."
   ]
  },
  {
   "cell_type": "markdown",
   "metadata": {
    "id": "IGShelaFLKP0"
   },
   "source": [
    "## Define core instructions\n",
    "\n",
    "State is a fundamental concept for a LangGraph app. A state object is passed between every node and transition in the app. Here you define a state object, `OrderState`, that holds the conversation history, a structured order, and a flag indicating if the customer has finished placing their order. For simplicity, the \"structure\" in this order is just a list of strings, but this can be expanded to any Python data structure.\n",
    "\n",
    "In Python, the LangGraph state object is a Python [dictionary](https://docs.python.org/3/library/stdtypes.html#dict). You can provide a schema for this dictionary by defining it as a [`TypedDict`](https://docs.python.org/3/library/typing.html#typing.TypedDict).\n",
    "\n",
    "Here you also define the system instruction that the Gemini model will use. You can capture tone and style here, as well as the playbook under which the chatbot should operate."
   ]
  },
  {
   "cell_type": "code",
   "execution_count": 3,
   "metadata": {
    "execution": {
     "iopub.execute_input": "2025-04-03T03:21:48.106371Z",
     "iopub.status.busy": "2025-04-03T03:21:48.104982Z",
     "iopub.status.idle": "2025-04-03T03:21:49.430043Z",
     "shell.execute_reply": "2025-04-03T03:21:49.428868Z",
     "shell.execute_reply.started": "2025-04-03T03:21:48.106308Z"
    },
    "id": "2RJQRlfVjqkJ",
    "trusted": true
   },
   "outputs": [],
   "source": [
    "from typing import Annotated\n",
    "from typing_extensions import TypedDict\n",
    "\n",
    "from langgraph.graph.message import add_messages\n",
    "\n",
    "\n",
    "class OrderState(TypedDict):\n",
    "    \"\"\"State representing the customer's order conversation.\"\"\"\n",
    "\n",
    "    # The chat conversation. This preserves the conversation history\n",
    "    # between nodes. The `add_messages` annotation indicates to LangGraph\n",
    "    # that state is updated by appending returned messages, not replacing\n",
    "    # them.\n",
    "    messages: Annotated[list, add_messages]\n",
    "\n",
    "    # The customer's in-progress order.\n",
    "    order: list[str]\n",
    "\n",
    "    # Flag indicating that the order is placed and completed.\n",
    "    finished: bool\n",
    "\n",
    "\n",
    "# The system instruction defines how the chatbot is expected to behave and includes\n",
    "# rules for when to call different functions, as well as rules for the conversation, such\n",
    "# as tone and what is permitted for discussion.\n",
    "BARISTABOT_SYSINT = (\n",
    "    \"system\",  # 'system' indicates the message is a system instruction.\n",
    "    \"You are a BaristaBot, an interactive cafe ordering system. A human will talk to you about the \"\n",
    "    \"available products you have and you will answer any questions about menu items (and only about \"\n",
    "    \"menu items - no off-topic discussion, but you can chat about the products and their history). \"\n",
    "    \"The customer will place an order for 1 or more items from the menu, which you will structure \"\n",
    "    \"and send to the ordering system after confirming the order with the human. \"\n",
    "    \"\\n\\n\"\n",
    "    \"Add items to the customer's order with add_to_order, and reset the order with clear_order. \"\n",
    "    \"To see the contents of the order so far, call get_order (this is shown to you, not the user) \"\n",
    "    \"Always confirm_order with the user (double-check) before calling place_order. Calling confirm_order will \"\n",
    "    \"display the order items to the user and returns their response to seeing the list. Their response may contain modifications. \"\n",
    "    \"Always verify and respond with drink and modifier names from the MENU before adding them to the order. \"\n",
    "    \"If you are unsure a drink or modifier matches those on the MENU, ask a question to clarify or redirect. \"\n",
    "    \"You only have the modifiers listed on the menu. \"\n",
    "    \"Once the customer has finished ordering items, Call confirm_order to ensure it is correct then make \"\n",
    "    \"any necessary updates and then call place_order. Once place_order has returned, thank the user and \"\n",
    "    \"say goodbye!\"\n",
    "    \"\\n\\n\"\n",
    "    \"If any of the tools are unavailable, you can break the fourth wall and tell the user that \"\n",
    "    \"they have not implemented them yet and should keep reading to do so.\",\n",
    ")\n",
    "\n",
    "# This is the message with which the system opens the conversation.\n",
    "WELCOME_MSG = \"Welcome to the BaristaBot cafe. Type `q` to quit. How may I serve you today?\""
   ]
  },
  {
   "cell_type": "markdown",
   "metadata": {
    "id": "PHkDsSI_NUp7"
   },
   "source": [
    "## Define a single turn chatboot\n",
    "\n",
    "To illustrate how LangGraph works, the following program defines a chatbot node that will execute a single turn in a chat conversation using the instructions supplied.\n",
    "\n",
    "Each node in the graph operates on the state object. The state (a Python dictionary) is passed as a parameter into the node (a function) and the new state is returned. This can be restated as pseudo-code, where `state = node(state)`.\n",
    "\n",
    "Note: For the `chatbot` node, the state is updated by *adding* the new conversation message. The `add_messages` annotation on `OrderState.messages` indicates that messages are *appended* when returned from a node. Typically state is updated by replacement, but this annotation causes `messages` to behave differently."
   ]
  },
  {
   "cell_type": "code",
   "execution_count": 4,
   "metadata": {
    "execution": {
     "iopub.execute_input": "2025-04-03T03:21:52.328703Z",
     "iopub.status.busy": "2025-04-03T03:21:52.32815Z",
     "iopub.status.idle": "2025-04-03T03:21:53.460259Z",
     "shell.execute_reply": "2025-04-03T03:21:53.459107Z",
     "shell.execute_reply.started": "2025-04-03T03:21:52.328666Z"
    },
    "id": "Y359hoepjv6i",
    "trusted": true
   },
   "outputs": [],
   "source": [
    "from langgraph.graph import StateGraph, START, END\n",
    "from langchain_google_genai import ChatGoogleGenerativeAI\n",
    "\n",
    "# Try using different models. The Gemini 2.0 flash model is highly\n",
    "# capable, great with tools, and has a generous free tier. If you\n",
    "# try the older 1.5 models, note that the `pro` models are better at\n",
    "# complex multi-tool cases like this, but the `flash` models are\n",
    "# faster and have more free quota.\n",
    "# Check out the features and quota differences here:\n",
    "#  - https://ai.google.dev/gemini-api/docs/models/gemini\n",
    "llm = ChatGoogleGenerativeAI(model=\"gemini-2.0-flash\")\n",
    "\n",
    "\n",
    "def chatbot(state: OrderState) -> OrderState:\n",
    "    \"\"\"The chatbot itself. A simple wrapper around the model's own chat interface.\"\"\"\n",
    "    message_history = [BARISTABOT_SYSINT] + state[\"messages\"]\n",
    "    return {\"messages\": [llm.invoke(message_history)]}\n",
    "\n",
    "\n",
    "# Set up the initial graph based on our state definition.\n",
    "graph_builder = StateGraph(OrderState)\n",
    "\n",
    "# Add the chatbot function to the app graph as a node called \"chatbot\".\n",
    "graph_builder.add_node(\"chatbot\", chatbot)\n",
    "\n",
    "# Define the chatbot node as the app entrypoint.\n",
    "graph_builder.add_edge(START, \"chatbot\")\n",
    "\n",
    "chat_graph = graph_builder.compile()"
   ]
  },
  {
   "cell_type": "markdown",
   "metadata": {
    "id": "T796a7eMJIjB"
   },
   "source": [
    "It can be helpful to visualise the graph you just defined. The following code renders the graph."
   ]
  },
  {
   "cell_type": "code",
   "execution_count": 5,
   "metadata": {
    "execution": {
     "iopub.execute_input": "2025-04-03T03:21:53.546402Z",
     "iopub.status.busy": "2025-04-03T03:21:53.545009Z",
     "iopub.status.idle": "2025-04-03T03:21:53.653545Z",
     "shell.execute_reply": "2025-04-03T03:21:53.652332Z",
     "shell.execute_reply.started": "2025-04-03T03:21:53.546355Z"
    },
    "id": "JP4vPWb1kPhG",
    "trusted": true
   },
   "outputs": [
    {
     "data": {
      "image/png": "[encoded data removed]",
      "text/plain": [
       "<IPython.core.display.Image object>"
      ]
     },
     "execution_count": 5,
     "metadata": {},
     "output_type": "execute_result"
    }
   ],
   "source": [
    "from IPython.display import Image, display\n",
    "\n",
    "Image(chat_graph.get_graph().draw_mermaid_png())"
   ]
  },
  {
   "cell_type": "markdown",
   "metadata": {
    "id": "SZtG6b8vJTSl"
   },
   "source": [
    "Now that the graph is defined, you can run it. It only has one node, and one transition into that node, so it will transition from `__start__` to `chatbot`, execute the `chatbot` node, and terminate.\n",
    "\n",
    "To run the graph, you call `invoke` and pass an initial state object. In this case it begins with the user's initial message."
   ]
  },
  {
   "cell_type": "code",
   "execution_count": 6,
   "metadata": {
    "execution": {
     "iopub.execute_input": "2025-04-03T03:22:10.720462Z",
     "iopub.status.busy": "2025-04-03T03:22:10.719994Z",
     "iopub.status.idle": "2025-04-03T03:22:11.743171Z",
     "shell.execute_reply": "2025-04-03T03:22:11.741917Z",
     "shell.execute_reply.started": "2025-04-03T03:22:10.720422Z"
    },
    "id": "swkexnSoO3RU",
    "trusted": true
   },
   "outputs": [
    {
     "name": "stdout",
     "output_type": "stream",
     "text": [
      "{'messages': [HumanMessage(content='Hello, what can you do?', additional_kwargs={}, response_metadata={}, id='b3f599e6-012b-40f1-9259-d3fca66a8868'),\n",
      "              AIMessage(content=\"Hi there! I'm BaristaBot, your friendly neighborhood cafe ordering system. I can tell you about our menu items, answer your questions about them, and take your order. Once you're happy with your selections, I'll confirm everything and send it off to the kitchen. What are you in the mood for today?\", additional_kwargs={}, response_metadata={'prompt_feedback': {'block_reason': 0, 'safety_ratings': []}, 'finish_reason': 'STOP', 'model_name': 'gemini-2.0-flash', 'safety_ratings': []}, id='run--cc217f74-5d33-44e0-bd12-80d4af7a7fd4-0', usage_metadata={'input_tokens': 323, 'output_tokens': 69, 'total_tokens': 392, 'input_token_details': {'cache_read': 0}})]}\n",
      "HumanMessage: Hello, what can you do?\n",
      "AIMessage: Hi there! I'm BaristaBot, your friendly neighborhood cafe ordering system. I can tell you about our menu items, answer your questions about them, and take your order. Once you're happy with your selections, I'll confirm everything and send it off to the kitchen. What are you in the mood for today?\n"
     ]
    }
   ],
   "source": [
    "from pprint import pprint\n",
    "\n",
    "user_msg = \"Hello, what can you do?\"\n",
    "state = chat_graph.invoke({\"messages\": [user_msg]})\n",
    "\n",
    "# The state object contains lots of information. Uncomment the pprint lines to see it all.\n",
    "pprint(state)\n",
    "\n",
    "# Note that the final state now has 2 messages. Our HumanMessage, and an additional AIMessage.\n",
    "for msg in state[\"messages\"]:\n",
    "    print(f\"{type(msg).__name__}: {msg.content}\")"
   ]
  },
  {
   "cell_type": "markdown",
   "metadata": {
    "id": "dsczQNk9PVlJ"
   },
   "source": [
    "You could execute this in a Python loop, but for simplicity, manually invoke one more conversational turn. This second invocation takes the state from the first call and appends another user message to elicit another response from the chatbot."
   ]
  },
  {
   "cell_type": "code",
   "execution_count": 9,
   "metadata": {
    "execution": {
     "iopub.execute_input": "2025-04-03T03:22:15.435367Z",
     "iopub.status.busy": "2025-04-03T03:22:15.434942Z",
     "iopub.status.idle": "2025-04-03T03:22:16.479191Z",
     "shell.execute_reply": "2025-04-03T03:22:16.478092Z",
     "shell.execute_reply.started": "2025-04-03T03:22:15.435331Z"
    },
    "id": "OKGonO42Pe43",
    "trusted": true
   },
   "outputs": [
    {
     "name": "stdout",
     "output_type": "stream",
     "text": [
      "HumanMessage: Hello, what can you do?\n",
      "AIMessage: Hi there! I'm BaristaBot, your friendly neighborhood cafe ordering system. I can tell you about our menu items, answer your questions about them, and take your order. Once you're happy with your selections, I'll confirm everything and send it off to the kitchen. What are you in the mood for today?\n",
      "HumanMessage: Oh great, what kinds of latte can you make?\n",
      "AIMessage: We have a few delicious latte options for you:\n",
      "\n",
      "*   **Latte:** Our classic espresso and steamed milk latte.\n",
      "*   **Mocha Latte:** A chocolatey twist on the traditional latte.\n",
      "*   **Caramel Latte:** Sweet and smooth, with a rich caramel flavor.\n",
      "*   **Iced Latte:** Our regular latte served over ice.\n",
      "\n",
      "Would you like to know more about any of these?\n"
     ]
    }
   ],
   "source": [
    "user_msg = \"Oh great, what kinds of latte can you make?\"\n",
    "\n",
    "state[\"messages\"].append(user_msg)\n",
    "state = chat_graph.invoke(state)\n",
    "\n",
    "# pprint(state)\n",
    "for msg in state[\"messages\"]:\n",
    "    print(f\"{type(msg).__name__}: {msg.content}\")"
   ]
  },
  {
   "cell_type": "markdown",
   "metadata": {
    "id": "v4oN47R89Rx-"
   },
   "source": [
    "## Add a human node\n",
    "\n",
    "Instead of repeatedly running the \"graph\" in a Python loop, you can use LangGraph to loop between nodes.\n",
    "\n",
    "The `human` node will display the last message from the LLM to the user, and then prompt them for their next input. Here this is done using standard Python `print` and `input` functions, but for a real cafe situation, you could render the chat to a display or audio, and accept input from a mic or on-screen keyboard.\n",
    "\n",
    "The `chatbot` node function has also been updated to include the welcome message to start the conversation."
   ]
  },
  {
   "cell_type": "code",
   "execution_count": 7,
   "metadata": {
    "execution": {
     "iopub.execute_input": "2025-04-03T03:22:20.613599Z",
     "iopub.status.busy": "2025-04-03T03:22:20.613178Z",
     "iopub.status.idle": "2025-04-03T03:22:20.625365Z",
     "shell.execute_reply": "2025-04-03T03:22:20.6241Z",
     "shell.execute_reply.started": "2025-04-03T03:22:20.613564Z"
    },
    "id": "UtOpn68ospVj",
    "trusted": true
   },
   "outputs": [],
   "source": [
    "from langchain_core.messages.ai import AIMessage\n",
    "\n",
    "\n",
    "def human_node(state: OrderState) -> OrderState:\n",
    "    \"\"\"Display the last model message to the user, and receive the user's input.\"\"\"\n",
    "    last_msg = state[\"messages\"][-1]\n",
    "    print(\"Model:\", last_msg.content)\n",
    "\n",
    "    user_input = input(\"User: \")\n",
    "\n",
    "    # If it looks like the user is trying to quit, flag the conversation\n",
    "    # as over.\n",
    "    if user_input in {\"q\", \"quit\", \"exit\", \"goodbye\"}:\n",
    "        state[\"finished\"] = True\n",
    "\n",
    "    return state | {\"messages\": [(\"user\", user_input)]}\n",
    "\n",
    "\n",
    "def chatbot_with_welcome_msg(state: OrderState) -> OrderState:\n",
    "    \"\"\"The chatbot itself. A wrapper around the model's own chat interface.\"\"\"\n",
    "\n",
    "    if state[\"messages\"]:\n",
    "        # If there are messages, continue the conversation with the Gemini model.\n",
    "        new_output = llm.invoke([BARISTABOT_SYSINT] + state[\"messages\"])\n",
    "    else:\n",
    "        # If there are no messages, start with the welcome message.\n",
    "        new_output = AIMessage(content=WELCOME_MSG)\n",
    "\n",
    "    return state | {\"messages\": [new_output]}\n",
    "\n",
    "\n",
    "# Start building a new graph.\n",
    "graph_builder = StateGraph(OrderState)\n",
    "\n",
    "# Add the chatbot and human nodes to the app graph.\n",
    "graph_builder.add_node(\"chatbot\", chatbot_with_welcome_msg)\n",
    "graph_builder.add_node(\"human\", human_node)\n",
    "\n",
    "# Start with the chatbot again.\n",
    "graph_builder.add_edge(START, \"chatbot\")\n",
    "\n",
    "# The chatbot will always go to the human next.\n",
    "graph_builder.add_edge(\"chatbot\", \"human\");"
   ]
  },
  {
   "cell_type": "markdown",
   "metadata": {
    "id": "SWXwd1ITUSPF"
   },
   "source": [
    "Before you can run this, note that if you added an edge from `human` back to `chatbot`, the graph will cycle forever as there is no exit condition. One way to break the cycle is to add a check for a human input like `q` or `quit` and use that to break the loop.\n",
    "\n",
    "In LangGraph, this is achieved with a conditional edge. This is similar to a regular graph transition, except a custom function is called to determine which edge to traverse.\n",
    "\n",
    "Conditional edge functions take the state as input, and return a string representing the name of the node to which it will transition."
   ]
  },
  {
   "cell_type": "code",
   "execution_count": 8,
   "metadata": {
    "execution": {
     "iopub.execute_input": "2025-04-03T03:22:23.600697Z",
     "iopub.status.busy": "2025-04-03T03:22:23.600317Z",
     "iopub.status.idle": "2025-04-03T03:22:23.675087Z",
     "shell.execute_reply": "2025-04-03T03:22:23.674016Z",
     "shell.execute_reply.started": "2025-04-03T03:22:23.600656Z"
    },
    "id": "6468OAgSU2He",
    "trusted": true
   },
   "outputs": [
    {
     "data": {
      "image/png": "[encoded data removed]",
      "text/plain": [
       "<IPython.core.display.Image object>"
      ]
     },
     "execution_count": 8,
     "metadata": {},
     "output_type": "execute_result"
    }
   ],
   "source": [
    "from typing import Literal\n",
    "\n",
    "\n",
    "def maybe_exit_human_node(state: OrderState) -> Literal[\"chatbot\", \"__end__\"]:\n",
    "    \"\"\"Route to the chatbot, unless it looks like the user is exiting.\"\"\"\n",
    "    if state.get(\"finished\", False):\n",
    "        return END\n",
    "    else:\n",
    "        return \"chatbot\"\n",
    "\n",
    "\n",
    "graph_builder.add_conditional_edges(\"human\", maybe_exit_human_node)\n",
    "\n",
    "chat_with_human_graph = graph_builder.compile()\n",
    "\n",
    "Image(chat_with_human_graph.get_graph().draw_mermaid_png())"
   ]
  },
  {
   "cell_type": "markdown",
   "metadata": {
    "id": "yrQI6-3FS_op"
   },
   "source": [
    "Run this new graph to see how the interaction loop is now captured within the graph. Input `quit` to exit the program.\n",
    "\n",
    "**You must uncomment the `.invoke(...)` line to run this step.**"
   ]
  },
  {
   "cell_type": "code",
   "execution_count": 14,
   "metadata": {
    "execution": {
     "iopub.execute_input": "2025-04-03T03:22:30.34259Z",
     "iopub.status.busy": "2025-04-03T03:22:30.34216Z",
     "iopub.status.idle": "2025-04-03T03:22:39.806014Z",
     "shell.execute_reply": "2025-04-03T03:22:39.804784Z",
     "shell.execute_reply.started": "2025-04-03T03:22:30.342553Z"
    },
    "id": "udGNmyasTGJG",
    "trusted": true
   },
   "outputs": [
    {
     "name": "stdout",
     "output_type": "stream",
     "text": [
      "Model: Welcome to the BaristaBot cafe. Type `q` to quit. How may I serve you today?\n",
      "Model: Hi there! What can I get for you today?\n",
      "Model: We have several types of coffee. We have drip coffee, cold brew, and espresso. Which one would you like?\n",
      "{'finished': True,\n",
      " 'messages': [AIMessage(content='Welcome to the BaristaBot cafe. Type `q` to quit. How may I serve you today?', additional_kwargs={}, response_metadata={}, id='fd4de4b3-97b1-40e3-ad39-d5089fe46f06'),\n",
      "              HumanMessage(content='hello', additional_kwargs={}, response_metadata={}, id='86db9c2c-c2bb-48fe-810b-d3102e07562d'),\n",
      "              AIMessage(content='Hi there! What can I get for you today?', additional_kwargs={}, response_metadata={'prompt_feedback': {'block_reason': 0, 'safety_ratings': []}, 'finish_reason': 'STOP', 'model_name': 'gemini-2.0-flash', 'safety_ratings': []}, id='run--a2f4029f-3cf8-4397-8ef1-951e2f7b8a40-0', usage_metadata={'input_tokens': 339, 'output_tokens': 12, 'total_tokens': 351, 'input_token_details': {'cache_read': 0}}),\n",
      "              HumanMessage(content='coffee', additional_kwargs={}, response_metadata={}, id='647c98ef-1713-410c-9a1d-d45f366a13be'),\n",
      "              AIMessage(content='We have several types of coffee. We have drip coffee, cold brew, and espresso. Which one would you like?', additional_kwargs={}, response_metadata={'prompt_feedback': {'block_reason': 0, 'safety_ratings': []}, 'finish_reason': 'STOP', 'model_name': 'gemini-2.0-flash', 'safety_ratings': []}, id='run--0224bbef-6ec8-4542-b64c-9166c050e7f0-0', usage_metadata={'input_tokens': 351, 'output_tokens': 25, 'total_tokens': 376, 'input_token_details': {'cache_read': 0}}),\n",
      "              HumanMessage(content='q', additional_kwargs={}, response_metadata={}, id='c7806cfa-4adf-465c-8cd2-1c783f8a456d')]}\n"
     ]
    }
   ],
   "source": [
    "# The default recursion limit for traversing nodes is 25 - setting it higher means\n",
    "# you can try a more complex order with multiple steps and round-trips (and you\n",
    "# can chat for longer!)\n",
    "config = {\"recursion_limit\": 100}\n",
    "\n",
    "# Remember that this will loop forever, unless you input `q`, `quit` or one of the\n",
    "# other exit terms defined in `human_node`.\n",
    "# Uncomment this line to execute the graph:\n",
    "state = chat_with_human_graph.invoke({\"messages\": []}, config)\n",
    "\n",
    "# Things to try:\n",
    "#  - Just chat! There's no ordering or menu yet.\n",
    "#  - 'q' to exit.\n",
    "\n",
    "pprint(state)"
   ]
  },
  {
   "cell_type": "markdown",
   "metadata": {
    "id": "iwDFpJreW66e"
   },
   "source": [
    "## Add a \"live\" menu\n",
    "\n",
    "BaristaBot currently has no awareness of the available items at the cafe, so it will hallucinate a menu. One option would be to hard-code a menu into the system prompt. This would work well, but to simulate a system where the menu is more dynamic and could respond to fluctuating stock levels, you will put the menu into a custom tool.\n",
    "\n",
    "There are two types of tools that this system will use. Stateless tools that can be run automatically, and stateful tools that modify the order. The \"get current menu\" tool is stateless, in that it does not make any changes to the live order, so it can be called automatically.\n",
    "\n",
    "In a LangGraph app, you can annotate Python functions as tools by applying the `@tools` annotation.\n",
    "\n"
   ]
  },
  {
   "cell_type": "code",
   "execution_count": 15,
   "metadata": {
    "execution": {
     "iopub.execute_input": "2025-04-03T03:22:45.417431Z",
     "iopub.status.busy": "2025-04-03T03:22:45.416893Z",
     "iopub.status.idle": "2025-04-03T03:22:45.431725Z",
     "shell.execute_reply": "2025-04-03T03:22:45.430324Z",
     "shell.execute_reply.started": "2025-04-03T03:22:45.417374Z"
    },
    "id": "hG1n6mNFHsYW",
    "trusted": true
   },
   "outputs": [],
   "source": [
    "from langchain_core.tools import tool\n",
    "\n",
    "\n",
    "@tool\n",
    "def get_menu() -> str:\n",
    "    \"\"\"Provide the latest up-to-date menu.\"\"\"\n",
    "    # Note that this is just hard-coded text, but you could connect this to a live stock\n",
    "    # database, or you could use Gemini's multi-modal capabilities and take live photos of\n",
    "    # your cafe's chalk menu or the products on the counter and assmble them into an input.\n",
    "\n",
    "    return \"\"\"\n",
    "    MENU:\n",
    "    Coffee Drinks:\n",
    "    Espresso\n",
    "    Americano\n",
    "    Cold Brew\n",
    "\n",
    "    Coffee Drinks with Milk:\n",
    "    Latte\n",
    "    Cappuccino\n",
    "    Cortado\n",
    "    Macchiato\n",
    "    Mocha\n",
    "    Flat White\n",
    "\n",
    "    Tea Drinks:\n",
    "    English Breakfast Tea\n",
    "    Green Tea\n",
    "    Earl Grey\n",
    "\n",
    "    Tea Drinks with Milk:\n",
    "    Chai Latte\n",
    "    Matcha Latte\n",
    "    London Fog\n",
    "\n",
    "    Other Drinks:\n",
    "    Steamer\n",
    "    Hot Chocolate\n",
    "\n",
    "    Modifiers:\n",
    "    Milk options: Whole, 2%, Oat, Almond, 2% Lactose Free; Default option: whole\n",
    "    Espresso shots: Single, Double, Triple, Quadruple; default: Double\n",
    "    Caffeine: Decaf, Regular; default: Regular\n",
    "    Hot-Iced: Hot, Iced; Default: Hot\n",
    "    Sweeteners (option to add one or more): vanilla sweetener, hazelnut sweetener, caramel sauce, chocolate sauce, sugar free vanilla sweetener\n",
    "    Special requests: any reasonable modification that does not involve items not on the menu, for example: 'extra hot', 'one pump', 'half caff', 'extra foam', etc.\n",
    "\n",
    "    \"dirty\" means add a shot of espresso to a drink that doesn't usually have it, like \"Dirty Chai Latte\".\n",
    "    \"Regular milk\" is the same as 'whole milk'.\n",
    "    \"Sweetened\" means add some regular sugar, not a sweetener.\n",
    "\n",
    "    Soy milk has run out of stock today, so soy is not available.\n",
    "  \"\"\""
   ]
  },
  {
   "cell_type": "markdown",
   "metadata": {
    "id": "W82wDfAH-RMU"
   },
   "source": [
    "Now add the new tool to the graph. The `get_menu` tool is wrapped in a [`ToolNode`](https://langchain-ai.github.io/langgraph/reference/prebuilt/#toolnode) that handles calling the tool and passing the response as a message through the graph. The tools are also bound to the `llm` object so that the underlying model knows they exist. As you now have a different `llm` object to invoke, you need to update the `chatbot` node so that it is aware of the tools.\n"
   ]
  },
  {
   "cell_type": "code",
   "execution_count": 17,
   "metadata": {
    "execution": {
     "iopub.execute_input": "2025-04-03T03:22:49.660632Z",
     "iopub.status.busy": "2025-04-03T03:22:49.660236Z",
     "iopub.status.idle": "2025-04-03T03:22:49.759324Z",
     "shell.execute_reply": "2025-04-03T03:22:49.758101Z",
     "shell.execute_reply.started": "2025-04-03T03:22:49.660597Z"
    },
    "id": "KJVZGC2TlKqj",
    "trusted": true
   },
   "outputs": [
    {
     "data": {
      "image/png": "[encoded data removed]",
      "text/plain": [
       "<IPython.core.display.Image object>"
      ]
     },
     "execution_count": 17,
     "metadata": {},
     "output_type": "execute_result"
    }
   ],
   "source": [
    "from langgraph.prebuilt import ToolNode\n",
    "\n",
    "\n",
    "# Define the tools and create a \"tools\" node.\n",
    "tools = [get_menu]\n",
    "tool_node = ToolNode(tools)\n",
    "\n",
    "# Attach the tools to the model so that it knows what it can call.\n",
    "llm_with_tools = llm.bind_tools(tools)\n",
    "\n",
    "\n",
    "def maybe_route_to_tools(state: OrderState) -> Literal[\"tools\", \"human\"]:\n",
    "    \"\"\"Route between human or tool nodes, depending if a tool call is made.\"\"\"\n",
    "    if not (msgs := state.get(\"messages\", [])):\n",
    "        raise ValueError(f\"No messages found when parsing state: {state}\")\n",
    "\n",
    "    # Only route based on the last message.\n",
    "    msg = msgs[-1]\n",
    "\n",
    "    # When the chatbot returns tool_calls, route to the \"tools\" node.\n",
    "    if hasattr(msg, \"tool_calls\") and len(msg.tool_calls) > 0:\n",
    "        return \"tools\"\n",
    "    else:\n",
    "        return \"human\"\n",
    "\n",
    "\n",
    "def chatbot_with_tools(state: OrderState) -> OrderState:\n",
    "    \"\"\"The chatbot with tools. A simple wrapper around the model's own chat interface.\"\"\"\n",
    "    defaults = {\"order\": [], \"finished\": False}\n",
    "\n",
    "    if state[\"messages\"]:\n",
    "        new_output = llm_with_tools.invoke([BARISTABOT_SYSINT] + state[\"messages\"])\n",
    "    else:\n",
    "        new_output = AIMessage(content=WELCOME_MSG)\n",
    "\n",
    "    # Set up some defaults if not already set, then pass through the provided state,\n",
    "    # overriding only the \"messages\" field.\n",
    "    return defaults | state | {\"messages\": [new_output]}\n",
    "\n",
    "\n",
    "graph_builder = StateGraph(OrderState)\n",
    "\n",
    "# Add the nodes, including the new tool_node.\n",
    "graph_builder.add_node(\"chatbot\", chatbot_with_tools)\n",
    "graph_builder.add_node(\"human\", human_node)\n",
    "graph_builder.add_node(\"tools\", tool_node)\n",
    "\n",
    "# Chatbot may go to tools, or human.\n",
    "graph_builder.add_conditional_edges(\"chatbot\", maybe_route_to_tools)\n",
    "# Human may go back to chatbot, or exit.\n",
    "graph_builder.add_conditional_edges(\"human\", maybe_exit_human_node)\n",
    "\n",
    "# Tools always route back to chat afterwards.\n",
    "graph_builder.add_edge(\"tools\", \"chatbot\")\n",
    "\n",
    "graph_builder.add_edge(START, \"chatbot\")\n",
    "graph_with_menu = graph_builder.compile()\n",
    "\n",
    "Image(graph_with_menu.get_graph().draw_mermaid_png())"
   ]
  },
  {
   "cell_type": "markdown",
   "metadata": {
    "id": "kbFdxxWdauzz"
   },
   "source": [
    "Now run the new graph to see how the model uses the menu.\n",
    "\n",
    "**You must uncomment the `.invoke(...)` line to run this step.**"
   ]
  },
  {
   "cell_type": "code",
   "execution_count": 19,
   "metadata": {
    "execution": {
     "iopub.execute_input": "2025-04-03T03:22:56.998267Z",
     "iopub.status.busy": "2025-04-03T03:22:56.997801Z",
     "iopub.status.idle": "2025-04-03T03:23:20.462404Z",
     "shell.execute_reply": "2025-04-03T03:23:20.461172Z",
     "shell.execute_reply.started": "2025-04-03T03:22:56.998226Z"
    },
    "id": "wcsVkMAApBGu",
    "trusted": true
   },
   "outputs": [
    {
     "name": "stdout",
     "output_type": "stream",
     "text": [
      "Model: Welcome to the BaristaBot cafe. Type `q` to quit. How may I serve you today?\n",
      "Model: We have English Breakfast Tea, Green Tea, and Earl Grey. We also have Chai Latte, Matcha Latte, and London Fog, which are tea drinks with milk.\n"
     ]
    },
    {
     "ename": "AttributeError",
     "evalue": "'int' object has no attribute 'name'",
     "output_type": "error",
     "traceback": [
      "\u001b[0;31m---------------------------------------------------------------------------\u001b[0m",
      "\u001b[0;31mAttributeError\u001b[0m                            Traceback (most recent call last)",
      "Cell \u001b[0;32mIn[19], line 5\u001b[0m\n\u001b[1;32m      1\u001b[0m \u001b[38;5;66;03m# Remember that you have not implemented ordering yet, so this will loop forever,\u001b[39;00m\n\u001b[1;32m      2\u001b[0m \u001b[38;5;66;03m# unless you input `q`, `quit` or one of the other exit terms defined in the\u001b[39;00m\n\u001b[1;32m      3\u001b[0m \u001b[38;5;66;03m# `human_node`.\u001b[39;00m\n\u001b[1;32m      4\u001b[0m \u001b[38;5;66;03m# Uncomment this line to execute the graph:\u001b[39;00m\n\u001b[0;32m----> 5\u001b[0m state \u001b[38;5;241m=\u001b[39m \u001b[43mgraph_with_menu\u001b[49m\u001b[38;5;241;43m.\u001b[39;49m\u001b[43minvoke\u001b[49m\u001b[43m(\u001b[49m\u001b[43m{\u001b[49m\u001b[38;5;124;43m\"\u001b[39;49m\u001b[38;5;124;43mmessages\u001b[39;49m\u001b[38;5;124;43m\"\u001b[39;49m\u001b[43m:\u001b[49m\u001b[43m \u001b[49m\u001b[43m[\u001b[49m\u001b[43m]\u001b[49m\u001b[43m}\u001b[49m\u001b[43m,\u001b[49m\u001b[43m \u001b[49m\u001b[43mconfig\u001b[49m\u001b[43m)\u001b[49m\n\u001b[1;32m      7\u001b[0m \u001b[38;5;66;03m# Things to try:\u001b[39;00m\n\u001b[1;32m      8\u001b[0m \u001b[38;5;66;03m# - I'd love an espresso drink, what have you got?\u001b[39;00m\n\u001b[1;32m      9\u001b[0m \u001b[38;5;66;03m# - What teas do you have?\u001b[39;00m\n\u001b[1;32m     10\u001b[0m \u001b[38;5;66;03m# - Can you do a long black? (this is on the menu as an \"Americano\" - see if it can\u001b[39;00m\n\u001b[1;32m     11\u001b[0m \u001b[38;5;66;03m#   figure it out)\u001b[39;00m\n\u001b[1;32m     12\u001b[0m \u001b[38;5;66;03m# - 'q' to exit.\u001b[39;00m\n\u001b[1;32m     15\u001b[0m pprint(state)\n",
      "File \u001b[0;32m~/Projets/Kaggle/kaggle_env/lib/python3.10/site-packages/langgraph/pregel/__init__.py:2683\u001b[0m, in \u001b[0;36mPregel.invoke\u001b[0;34m(self, input, config, stream_mode, output_keys, interrupt_before, interrupt_after, debug, **kwargs)\u001b[0m\n\u001b[1;32m   2681\u001b[0m \u001b[38;5;28;01melse\u001b[39;00m:\n\u001b[1;32m   2682\u001b[0m     chunks \u001b[38;5;241m=\u001b[39m []\n\u001b[0;32m-> 2683\u001b[0m \u001b[38;5;28;01mfor\u001b[39;00m chunk \u001b[38;5;129;01min\u001b[39;00m \u001b[38;5;28mself\u001b[39m\u001b[38;5;241m.\u001b[39mstream(\n\u001b[1;32m   2684\u001b[0m     \u001b[38;5;28minput\u001b[39m,\n\u001b[1;32m   2685\u001b[0m     config,\n\u001b[1;32m   2686\u001b[0m     stream_mode\u001b[38;5;241m=\u001b[39mstream_mode,\n\u001b[1;32m   2687\u001b[0m     output_keys\u001b[38;5;241m=\u001b[39moutput_keys,\n\u001b[1;32m   2688\u001b[0m     interrupt_before\u001b[38;5;241m=\u001b[39minterrupt_before,\n\u001b[1;32m   2689\u001b[0m     interrupt_after\u001b[38;5;241m=\u001b[39minterrupt_after,\n\u001b[1;32m   2690\u001b[0m     debug\u001b[38;5;241m=\u001b[39mdebug,\n\u001b[1;32m   2691\u001b[0m     \u001b[38;5;241m*\u001b[39m\u001b[38;5;241m*\u001b[39mkwargs,\n\u001b[1;32m   2692\u001b[0m ):\n\u001b[1;32m   2693\u001b[0m     \u001b[38;5;28;01mif\u001b[39;00m stream_mode \u001b[38;5;241m==\u001b[39m \u001b[38;5;124m\"\u001b[39m\u001b[38;5;124mvalues\u001b[39m\u001b[38;5;124m\"\u001b[39m:\n\u001b[1;32m   2694\u001b[0m         latest \u001b[38;5;241m=\u001b[39m chunk\n",
      "File \u001b[0;32m~/Projets/Kaggle/kaggle_env/lib/python3.10/site-packages/langgraph/pregel/__init__.py:2331\u001b[0m, in \u001b[0;36mPregel.stream\u001b[0;34m(self, input, config, stream_mode, output_keys, interrupt_before, interrupt_after, debug, subgraphs)\u001b[0m\n\u001b[1;32m   2325\u001b[0m     \u001b[38;5;66;03m# Similarly to Bulk Synchronous Parallel / Pregel model\u001b[39;00m\n\u001b[1;32m   2326\u001b[0m     \u001b[38;5;66;03m# computation proceeds in steps, while there are channel updates.\u001b[39;00m\n\u001b[1;32m   2327\u001b[0m     \u001b[38;5;66;03m# Channel updates from step N are only visible in step N+1\u001b[39;00m\n\u001b[1;32m   2328\u001b[0m     \u001b[38;5;66;03m# channels are guaranteed to be immutable for the duration of the step,\u001b[39;00m\n\u001b[1;32m   2329\u001b[0m     \u001b[38;5;66;03m# with channel updates applied only at the transition between steps.\u001b[39;00m\n\u001b[1;32m   2330\u001b[0m     \u001b[38;5;28;01mwhile\u001b[39;00m loop\u001b[38;5;241m.\u001b[39mtick(input_keys\u001b[38;5;241m=\u001b[39m\u001b[38;5;28mself\u001b[39m\u001b[38;5;241m.\u001b[39minput_channels):\n\u001b[0;32m-> 2331\u001b[0m         \u001b[38;5;28;01mfor\u001b[39;00m _ \u001b[38;5;129;01min\u001b[39;00m runner\u001b[38;5;241m.\u001b[39mtick(\n\u001b[1;32m   2332\u001b[0m             loop\u001b[38;5;241m.\u001b[39mtasks\u001b[38;5;241m.\u001b[39mvalues(),\n\u001b[1;32m   2333\u001b[0m             timeout\u001b[38;5;241m=\u001b[39m\u001b[38;5;28mself\u001b[39m\u001b[38;5;241m.\u001b[39mstep_timeout,\n\u001b[1;32m   2334\u001b[0m             retry_policy\u001b[38;5;241m=\u001b[39m\u001b[38;5;28mself\u001b[39m\u001b[38;5;241m.\u001b[39mretry_policy,\n\u001b[1;32m   2335\u001b[0m             get_waiter\u001b[38;5;241m=\u001b[39mget_waiter,\n\u001b[1;32m   2336\u001b[0m         ):\n\u001b[1;32m   2337\u001b[0m             \u001b[38;5;66;03m# emit output\u001b[39;00m\n\u001b[1;32m   2338\u001b[0m             \u001b[38;5;28;01myield from\u001b[39;00m output()\n\u001b[1;32m   2339\u001b[0m \u001b[38;5;66;03m# emit output\u001b[39;00m\n",
      "File \u001b[0;32m~/Projets/Kaggle/kaggle_env/lib/python3.10/site-packages/langgraph/pregel/runner.py:146\u001b[0m, in \u001b[0;36mPregelRunner.tick\u001b[0;34m(self, tasks, reraise, timeout, retry_policy, get_waiter)\u001b[0m\n\u001b[1;32m    144\u001b[0m t \u001b[38;5;241m=\u001b[39m tasks[\u001b[38;5;241m0\u001b[39m]\n\u001b[1;32m    145\u001b[0m \u001b[38;5;28;01mtry\u001b[39;00m:\n\u001b[0;32m--> 146\u001b[0m     \u001b[43mrun_with_retry\u001b[49m\u001b[43m(\u001b[49m\n\u001b[1;32m    147\u001b[0m \u001b[43m        \u001b[49m\u001b[43mt\u001b[49m\u001b[43m,\u001b[49m\n\u001b[1;32m    148\u001b[0m \u001b[43m        \u001b[49m\u001b[43mretry_policy\u001b[49m\u001b[43m,\u001b[49m\n\u001b[1;32m    149\u001b[0m \u001b[43m        \u001b[49m\u001b[43mconfigurable\u001b[49m\u001b[38;5;241;43m=\u001b[39;49m\u001b[43m{\u001b[49m\n\u001b[1;32m    150\u001b[0m \u001b[43m            \u001b[49m\u001b[43mCONFIG_KEY_CALL\u001b[49m\u001b[43m:\u001b[49m\u001b[43m \u001b[49m\u001b[43mpartial\u001b[49m\u001b[43m(\u001b[49m\n\u001b[1;32m    151\u001b[0m \u001b[43m                \u001b[49m\u001b[43m_call\u001b[49m\u001b[43m,\u001b[49m\n\u001b[1;32m    152\u001b[0m \u001b[43m                \u001b[49m\u001b[43mweakref\u001b[49m\u001b[38;5;241;43m.\u001b[39;49m\u001b[43mref\u001b[49m\u001b[43m(\u001b[49m\u001b[43mt\u001b[49m\u001b[43m)\u001b[49m\u001b[43m,\u001b[49m\n\u001b[1;32m    153\u001b[0m \u001b[43m                \u001b[49m\u001b[43mretry\u001b[49m\u001b[38;5;241;43m=\u001b[39;49m\u001b[43mretry_policy\u001b[49m\u001b[43m,\u001b[49m\n\u001b[1;32m    154\u001b[0m \u001b[43m                \u001b[49m\u001b[43mfutures\u001b[49m\u001b[38;5;241;43m=\u001b[39;49m\u001b[43mweakref\u001b[49m\u001b[38;5;241;43m.\u001b[39;49m\u001b[43mref\u001b[49m\u001b[43m(\u001b[49m\u001b[43mfutures\u001b[49m\u001b[43m)\u001b[49m\u001b[43m,\u001b[49m\n\u001b[1;32m    155\u001b[0m \u001b[43m                \u001b[49m\u001b[43mschedule_task\u001b[49m\u001b[38;5;241;43m=\u001b[39;49m\u001b[38;5;28;43mself\u001b[39;49m\u001b[38;5;241;43m.\u001b[39;49m\u001b[43mschedule_task\u001b[49m\u001b[43m,\u001b[49m\n\u001b[1;32m    156\u001b[0m \u001b[43m                \u001b[49m\u001b[43msubmit\u001b[49m\u001b[38;5;241;43m=\u001b[39;49m\u001b[38;5;28;43mself\u001b[39;49m\u001b[38;5;241;43m.\u001b[39;49m\u001b[43msubmit\u001b[49m\u001b[43m,\u001b[49m\n\u001b[1;32m    157\u001b[0m \u001b[43m                \u001b[49m\u001b[43mreraise\u001b[49m\u001b[38;5;241;43m=\u001b[39;49m\u001b[43mreraise\u001b[49m\u001b[43m,\u001b[49m\n\u001b[1;32m    158\u001b[0m \u001b[43m            \u001b[49m\u001b[43m)\u001b[49m\u001b[43m,\u001b[49m\n\u001b[1;32m    159\u001b[0m \u001b[43m        \u001b[49m\u001b[43m}\u001b[49m\u001b[43m,\u001b[49m\n\u001b[1;32m    160\u001b[0m \u001b[43m    \u001b[49m\u001b[43m)\u001b[49m\n\u001b[1;32m    161\u001b[0m     \u001b[38;5;28mself\u001b[39m\u001b[38;5;241m.\u001b[39mcommit(t, \u001b[38;5;28;01mNone\u001b[39;00m)\n\u001b[1;32m    162\u001b[0m \u001b[38;5;28;01mexcept\u001b[39;00m \u001b[38;5;167;01mException\u001b[39;00m \u001b[38;5;28;01mas\u001b[39;00m exc:\n",
      "File \u001b[0;32m~/Projets/Kaggle/kaggle_env/lib/python3.10/site-packages/langgraph/pregel/retry.py:40\u001b[0m, in \u001b[0;36mrun_with_retry\u001b[0;34m(task, retry_policy, configurable)\u001b[0m\n\u001b[1;32m     38\u001b[0m     task\u001b[38;5;241m.\u001b[39mwrites\u001b[38;5;241m.\u001b[39mclear()\n\u001b[1;32m     39\u001b[0m     \u001b[38;5;66;03m# run the task\u001b[39;00m\n\u001b[0;32m---> 40\u001b[0m     \u001b[38;5;28;01mreturn\u001b[39;00m \u001b[43mtask\u001b[49m\u001b[38;5;241;43m.\u001b[39;49m\u001b[43mproc\u001b[49m\u001b[38;5;241;43m.\u001b[39;49m\u001b[43minvoke\u001b[49m\u001b[43m(\u001b[49m\u001b[43mtask\u001b[49m\u001b[38;5;241;43m.\u001b[39;49m\u001b[43minput\u001b[49m\u001b[43m,\u001b[49m\u001b[43m \u001b[49m\u001b[43mconfig\u001b[49m\u001b[43m)\u001b[49m\n\u001b[1;32m     41\u001b[0m \u001b[38;5;28;01mexcept\u001b[39;00m ParentCommand \u001b[38;5;28;01mas\u001b[39;00m exc:\n\u001b[1;32m     42\u001b[0m     ns: \u001b[38;5;28mstr\u001b[39m \u001b[38;5;241m=\u001b[39m config[CONF][CONFIG_KEY_CHECKPOINT_NS]\n",
      "File \u001b[0;32m~/Projets/Kaggle/kaggle_env/lib/python3.10/site-packages/langgraph/utils/runnable.py:606\u001b[0m, in \u001b[0;36mRunnableSeq.invoke\u001b[0;34m(self, input, config, **kwargs)\u001b[0m\n\u001b[1;32m    602\u001b[0m config \u001b[38;5;241m=\u001b[39m patch_config(\n\u001b[1;32m    603\u001b[0m     config, callbacks\u001b[38;5;241m=\u001b[39mrun_manager\u001b[38;5;241m.\u001b[39mget_child(\u001b[38;5;124mf\u001b[39m\u001b[38;5;124m\"\u001b[39m\u001b[38;5;124mseq:step:\u001b[39m\u001b[38;5;132;01m{\u001b[39;00mi\u001b[38;5;250m \u001b[39m\u001b[38;5;241m+\u001b[39m\u001b[38;5;250m \u001b[39m\u001b[38;5;241m1\u001b[39m\u001b[38;5;132;01m}\u001b[39;00m\u001b[38;5;124m\"\u001b[39m)\n\u001b[1;32m    604\u001b[0m )\n\u001b[1;32m    605\u001b[0m \u001b[38;5;28;01mif\u001b[39;00m i \u001b[38;5;241m==\u001b[39m \u001b[38;5;241m0\u001b[39m:\n\u001b[0;32m--> 606\u001b[0m     \u001b[38;5;28minput\u001b[39m \u001b[38;5;241m=\u001b[39m \u001b[43mstep\u001b[49m\u001b[38;5;241;43m.\u001b[39;49m\u001b[43minvoke\u001b[49m\u001b[43m(\u001b[49m\u001b[38;5;28;43minput\u001b[39;49m\u001b[43m,\u001b[49m\u001b[43m \u001b[49m\u001b[43mconfig\u001b[49m\u001b[43m,\u001b[49m\u001b[43m \u001b[49m\u001b[38;5;241;43m*\u001b[39;49m\u001b[38;5;241;43m*\u001b[39;49m\u001b[43mkwargs\u001b[49m\u001b[43m)\u001b[49m\n\u001b[1;32m    607\u001b[0m \u001b[38;5;28;01melse\u001b[39;00m:\n\u001b[1;32m    608\u001b[0m     \u001b[38;5;28minput\u001b[39m \u001b[38;5;241m=\u001b[39m step\u001b[38;5;241m.\u001b[39minvoke(\u001b[38;5;28minput\u001b[39m, config)\n",
      "File \u001b[0;32m~/Projets/Kaggle/kaggle_env/lib/python3.10/site-packages/langgraph/utils/runnable.py:371\u001b[0m, in \u001b[0;36mRunnableCallable.invoke\u001b[0;34m(self, input, config, **kwargs)\u001b[0m\n\u001b[1;32m    369\u001b[0m \u001b[38;5;28;01melse\u001b[39;00m:\n\u001b[1;32m    370\u001b[0m     \u001b[38;5;28;01mwith\u001b[39;00m set_config_context(config) \u001b[38;5;28;01mas\u001b[39;00m context:\n\u001b[0;32m--> 371\u001b[0m         ret \u001b[38;5;241m=\u001b[39m \u001b[43mcontext\u001b[49m\u001b[38;5;241;43m.\u001b[39;49m\u001b[43mrun\u001b[49m\u001b[43m(\u001b[49m\u001b[38;5;28;43mself\u001b[39;49m\u001b[38;5;241;43m.\u001b[39;49m\u001b[43mfunc\u001b[49m\u001b[43m,\u001b[49m\u001b[43m \u001b[49m\u001b[38;5;241;43m*\u001b[39;49m\u001b[43margs\u001b[49m\u001b[43m,\u001b[49m\u001b[43m \u001b[49m\u001b[38;5;241;43m*\u001b[39;49m\u001b[38;5;241;43m*\u001b[39;49m\u001b[43mkwargs\u001b[49m\u001b[43m)\u001b[49m\n\u001b[1;32m    372\u001b[0m \u001b[38;5;28;01mif\u001b[39;00m \u001b[38;5;28misinstance\u001b[39m(ret, Runnable) \u001b[38;5;129;01mand\u001b[39;00m \u001b[38;5;28mself\u001b[39m\u001b[38;5;241m.\u001b[39mrecurse:\n\u001b[1;32m    373\u001b[0m     \u001b[38;5;28;01mreturn\u001b[39;00m ret\u001b[38;5;241m.\u001b[39minvoke(\u001b[38;5;28minput\u001b[39m, config)\n",
      "Cell \u001b[0;32mIn[17], line 32\u001b[0m, in \u001b[0;36mchatbot_with_tools\u001b[0;34m(state)\u001b[0m\n\u001b[1;32m     29\u001b[0m defaults \u001b[38;5;241m=\u001b[39m {\u001b[38;5;124m\"\u001b[39m\u001b[38;5;124morder\u001b[39m\u001b[38;5;124m\"\u001b[39m: [], \u001b[38;5;124m\"\u001b[39m\u001b[38;5;124mfinished\u001b[39m\u001b[38;5;124m\"\u001b[39m: \u001b[38;5;28;01mFalse\u001b[39;00m}\n\u001b[1;32m     31\u001b[0m \u001b[38;5;28;01mif\u001b[39;00m state[\u001b[38;5;124m\"\u001b[39m\u001b[38;5;124mmessages\u001b[39m\u001b[38;5;124m\"\u001b[39m]:\n\u001b[0;32m---> 32\u001b[0m     new_output \u001b[38;5;241m=\u001b[39m \u001b[43mllm_with_tools\u001b[49m\u001b[38;5;241;43m.\u001b[39;49m\u001b[43minvoke\u001b[49m\u001b[43m(\u001b[49m\u001b[43m[\u001b[49m\u001b[43mBARISTABOT_SYSINT\u001b[49m\u001b[43m]\u001b[49m\u001b[43m \u001b[49m\u001b[38;5;241;43m+\u001b[39;49m\u001b[43m \u001b[49m\u001b[43mstate\u001b[49m\u001b[43m[\u001b[49m\u001b[38;5;124;43m\"\u001b[39;49m\u001b[38;5;124;43mmessages\u001b[39;49m\u001b[38;5;124;43m\"\u001b[39;49m\u001b[43m]\u001b[49m\u001b[43m)\u001b[49m\n\u001b[1;32m     33\u001b[0m \u001b[38;5;28;01melse\u001b[39;00m:\n\u001b[1;32m     34\u001b[0m     new_output \u001b[38;5;241m=\u001b[39m AIMessage(content\u001b[38;5;241m=\u001b[39mWELCOME_MSG)\n",
      "File \u001b[0;32m~/Projets/Kaggle/kaggle_env/lib/python3.10/site-packages/langchain_core/runnables/base.py:5711\u001b[0m, in \u001b[0;36mRunnableBindingBase.invoke\u001b[0;34m(self, input, config, **kwargs)\u001b[0m\n\u001b[1;32m   5704\u001b[0m \u001b[38;5;129m@override\u001b[39m\n\u001b[1;32m   5705\u001b[0m \u001b[38;5;28;01mdef\u001b[39;00m\u001b[38;5;250m \u001b[39m\u001b[38;5;21minvoke\u001b[39m(\n\u001b[1;32m   5706\u001b[0m     \u001b[38;5;28mself\u001b[39m,\n\u001b[0;32m   (...)\u001b[0m\n\u001b[1;32m   5709\u001b[0m     \u001b[38;5;241m*\u001b[39m\u001b[38;5;241m*\u001b[39mkwargs: Optional[Any],\n\u001b[1;32m   5710\u001b[0m ) \u001b[38;5;241m-\u001b[39m\u001b[38;5;241m>\u001b[39m Output:\n\u001b[0;32m-> 5711\u001b[0m     \u001b[38;5;28;01mreturn\u001b[39;00m \u001b[38;5;28;43mself\u001b[39;49m\u001b[38;5;241;43m.\u001b[39;49m\u001b[43mbound\u001b[49m\u001b[38;5;241;43m.\u001b[39;49m\u001b[43minvoke\u001b[49m\u001b[43m(\u001b[49m\n\u001b[1;32m   5712\u001b[0m \u001b[43m        \u001b[49m\u001b[38;5;28;43minput\u001b[39;49m\u001b[43m,\u001b[49m\n\u001b[1;32m   5713\u001b[0m \u001b[43m        \u001b[49m\u001b[38;5;28;43mself\u001b[39;49m\u001b[38;5;241;43m.\u001b[39;49m\u001b[43m_merge_configs\u001b[49m\u001b[43m(\u001b[49m\u001b[43mconfig\u001b[49m\u001b[43m)\u001b[49m\u001b[43m,\u001b[49m\n\u001b[1;32m   5714\u001b[0m \u001b[43m        \u001b[49m\u001b[38;5;241;43m*\u001b[39;49m\u001b[38;5;241;43m*\u001b[39;49m\u001b[43m{\u001b[49m\u001b[38;5;241;43m*\u001b[39;49m\u001b[38;5;241;43m*\u001b[39;49m\u001b[38;5;28;43mself\u001b[39;49m\u001b[38;5;241;43m.\u001b[39;49m\u001b[43mkwargs\u001b[49m\u001b[43m,\u001b[49m\u001b[43m \u001b[49m\u001b[38;5;241;43m*\u001b[39;49m\u001b[38;5;241;43m*\u001b[39;49m\u001b[43mkwargs\u001b[49m\u001b[43m}\u001b[49m\u001b[43m,\u001b[49m\n\u001b[1;32m   5715\u001b[0m \u001b[43m    \u001b[49m\u001b[43m)\u001b[49m\n",
      "File \u001b[0;32m~/Projets/Kaggle/kaggle_env/lib/python3.10/site-packages/langchain_google_genai/chat_models.py:1022\u001b[0m, in \u001b[0;36mChatGoogleGenerativeAI.invoke\u001b[0;34m(self, input, config, code_execution, stop, **kwargs)\u001b[0m\n\u001b[1;32m   1017\u001b[0m     \u001b[38;5;28;01melse\u001b[39;00m:\n\u001b[1;32m   1018\u001b[0m         \u001b[38;5;28;01mraise\u001b[39;00m \u001b[38;5;167;01mValueError\u001b[39;00m(\n\u001b[1;32m   1019\u001b[0m             \u001b[38;5;124m\"\u001b[39m\u001b[38;5;124mTools are already defined.\u001b[39m\u001b[38;5;124m\"\u001b[39m \u001b[38;5;124m\"\u001b[39m\u001b[38;5;124mcode_execution tool can\u001b[39m\u001b[38;5;124m'\u001b[39m\u001b[38;5;124mt be defined\u001b[39m\u001b[38;5;124m\"\u001b[39m\n\u001b[1;32m   1020\u001b[0m         )\n\u001b[0;32m-> 1022\u001b[0m \u001b[38;5;28;01mreturn\u001b[39;00m \u001b[38;5;28;43msuper\u001b[39;49m\u001b[43m(\u001b[49m\u001b[43m)\u001b[49m\u001b[38;5;241;43m.\u001b[39;49m\u001b[43minvoke\u001b[49m\u001b[43m(\u001b[49m\u001b[38;5;28;43minput\u001b[39;49m\u001b[43m,\u001b[49m\u001b[43m \u001b[49m\u001b[43mconfig\u001b[49m\u001b[43m,\u001b[49m\u001b[43m \u001b[49m\u001b[43mstop\u001b[49m\u001b[38;5;241;43m=\u001b[39;49m\u001b[43mstop\u001b[49m\u001b[43m,\u001b[49m\u001b[43m \u001b[49m\u001b[38;5;241;43m*\u001b[39;49m\u001b[38;5;241;43m*\u001b[39;49m\u001b[43mkwargs\u001b[49m\u001b[43m)\u001b[49m\n",
      "File \u001b[0;32m~/Projets/Kaggle/kaggle_env/lib/python3.10/site-packages/langchain_core/language_models/chat_models.py:395\u001b[0m, in \u001b[0;36mBaseChatModel.invoke\u001b[0;34m(self, input, config, stop, **kwargs)\u001b[0m\n\u001b[1;32m    383\u001b[0m \u001b[38;5;129m@override\u001b[39m\n\u001b[1;32m    384\u001b[0m \u001b[38;5;28;01mdef\u001b[39;00m\u001b[38;5;250m \u001b[39m\u001b[38;5;21minvoke\u001b[39m(\n\u001b[1;32m    385\u001b[0m     \u001b[38;5;28mself\u001b[39m,\n\u001b[0;32m   (...)\u001b[0m\n\u001b[1;32m    390\u001b[0m     \u001b[38;5;241m*\u001b[39m\u001b[38;5;241m*\u001b[39mkwargs: Any,\n\u001b[1;32m    391\u001b[0m ) \u001b[38;5;241m-\u001b[39m\u001b[38;5;241m>\u001b[39m BaseMessage:\n\u001b[1;32m    392\u001b[0m     config \u001b[38;5;241m=\u001b[39m ensure_config(config)\n\u001b[1;32m    393\u001b[0m     \u001b[38;5;28;01mreturn\u001b[39;00m cast(\n\u001b[1;32m    394\u001b[0m         \u001b[38;5;124m\"\u001b[39m\u001b[38;5;124mChatGeneration\u001b[39m\u001b[38;5;124m\"\u001b[39m,\n\u001b[0;32m--> 395\u001b[0m         \u001b[38;5;28;43mself\u001b[39;49m\u001b[38;5;241;43m.\u001b[39;49m\u001b[43mgenerate_prompt\u001b[49m\u001b[43m(\u001b[49m\n\u001b[1;32m    396\u001b[0m \u001b[43m            \u001b[49m\u001b[43m[\u001b[49m\u001b[38;5;28;43mself\u001b[39;49m\u001b[38;5;241;43m.\u001b[39;49m\u001b[43m_convert_input\u001b[49m\u001b[43m(\u001b[49m\u001b[38;5;28;43minput\u001b[39;49m\u001b[43m)\u001b[49m\u001b[43m]\u001b[49m\u001b[43m,\u001b[49m\n\u001b[1;32m    397\u001b[0m \u001b[43m            \u001b[49m\u001b[43mstop\u001b[49m\u001b[38;5;241;43m=\u001b[39;49m\u001b[43mstop\u001b[49m\u001b[43m,\u001b[49m\n\u001b[1;32m    398\u001b[0m \u001b[43m            \u001b[49m\u001b[43mcallbacks\u001b[49m\u001b[38;5;241;43m=\u001b[39;49m\u001b[43mconfig\u001b[49m\u001b[38;5;241;43m.\u001b[39;49m\u001b[43mget\u001b[49m\u001b[43m(\u001b[49m\u001b[38;5;124;43m\"\u001b[39;49m\u001b[38;5;124;43mcallbacks\u001b[39;49m\u001b[38;5;124;43m\"\u001b[39;49m\u001b[43m)\u001b[49m\u001b[43m,\u001b[49m\n\u001b[1;32m    399\u001b[0m \u001b[43m            \u001b[49m\u001b[43mtags\u001b[49m\u001b[38;5;241;43m=\u001b[39;49m\u001b[43mconfig\u001b[49m\u001b[38;5;241;43m.\u001b[39;49m\u001b[43mget\u001b[49m\u001b[43m(\u001b[49m\u001b[38;5;124;43m\"\u001b[39;49m\u001b[38;5;124;43mtags\u001b[39;49m\u001b[38;5;124;43m\"\u001b[39;49m\u001b[43m)\u001b[49m\u001b[43m,\u001b[49m\n\u001b[1;32m    400\u001b[0m \u001b[43m            \u001b[49m\u001b[43mmetadata\u001b[49m\u001b[38;5;241;43m=\u001b[39;49m\u001b[43mconfig\u001b[49m\u001b[38;5;241;43m.\u001b[39;49m\u001b[43mget\u001b[49m\u001b[43m(\u001b[49m\u001b[38;5;124;43m\"\u001b[39;49m\u001b[38;5;124;43mmetadata\u001b[39;49m\u001b[38;5;124;43m\"\u001b[39;49m\u001b[43m)\u001b[49m\u001b[43m,\u001b[49m\n\u001b[1;32m    401\u001b[0m \u001b[43m            \u001b[49m\u001b[43mrun_name\u001b[49m\u001b[38;5;241;43m=\u001b[39;49m\u001b[43mconfig\u001b[49m\u001b[38;5;241;43m.\u001b[39;49m\u001b[43mget\u001b[49m\u001b[43m(\u001b[49m\u001b[38;5;124;43m\"\u001b[39;49m\u001b[38;5;124;43mrun_name\u001b[39;49m\u001b[38;5;124;43m\"\u001b[39;49m\u001b[43m)\u001b[49m\u001b[43m,\u001b[49m\n\u001b[1;32m    402\u001b[0m \u001b[43m            \u001b[49m\u001b[43mrun_id\u001b[49m\u001b[38;5;241;43m=\u001b[39;49m\u001b[43mconfig\u001b[49m\u001b[38;5;241;43m.\u001b[39;49m\u001b[43mpop\u001b[49m\u001b[43m(\u001b[49m\u001b[38;5;124;43m\"\u001b[39;49m\u001b[38;5;124;43mrun_id\u001b[39;49m\u001b[38;5;124;43m\"\u001b[39;49m\u001b[43m,\u001b[49m\u001b[43m \u001b[49m\u001b[38;5;28;43;01mNone\u001b[39;49;00m\u001b[43m)\u001b[49m\u001b[43m,\u001b[49m\n\u001b[1;32m    403\u001b[0m \u001b[43m            \u001b[49m\u001b[38;5;241;43m*\u001b[39;49m\u001b[38;5;241;43m*\u001b[39;49m\u001b[43mkwargs\u001b[49m\u001b[43m,\u001b[49m\n\u001b[1;32m    404\u001b[0m \u001b[43m        \u001b[49m\u001b[43m)\u001b[49m\u001b[38;5;241m.\u001b[39mgenerations[\u001b[38;5;241m0\u001b[39m][\u001b[38;5;241m0\u001b[39m],\n\u001b[1;32m    405\u001b[0m     )\u001b[38;5;241m.\u001b[39mmessage\n",
      "File \u001b[0;32m~/Projets/Kaggle/kaggle_env/lib/python3.10/site-packages/langchain_core/language_models/chat_models.py:1025\u001b[0m, in \u001b[0;36mBaseChatModel.generate_prompt\u001b[0;34m(self, prompts, stop, callbacks, **kwargs)\u001b[0m\n\u001b[1;32m   1016\u001b[0m \u001b[38;5;129m@override\u001b[39m\n\u001b[1;32m   1017\u001b[0m \u001b[38;5;28;01mdef\u001b[39;00m\u001b[38;5;250m \u001b[39m\u001b[38;5;21mgenerate_prompt\u001b[39m(\n\u001b[1;32m   1018\u001b[0m     \u001b[38;5;28mself\u001b[39m,\n\u001b[0;32m   (...)\u001b[0m\n\u001b[1;32m   1022\u001b[0m     \u001b[38;5;241m*\u001b[39m\u001b[38;5;241m*\u001b[39mkwargs: Any,\n\u001b[1;32m   1023\u001b[0m ) \u001b[38;5;241m-\u001b[39m\u001b[38;5;241m>\u001b[39m LLMResult:\n\u001b[1;32m   1024\u001b[0m     prompt_messages \u001b[38;5;241m=\u001b[39m [p\u001b[38;5;241m.\u001b[39mto_messages() \u001b[38;5;28;01mfor\u001b[39;00m p \u001b[38;5;129;01min\u001b[39;00m prompts]\n\u001b[0;32m-> 1025\u001b[0m     \u001b[38;5;28;01mreturn\u001b[39;00m \u001b[38;5;28;43mself\u001b[39;49m\u001b[38;5;241;43m.\u001b[39;49m\u001b[43mgenerate\u001b[49m\u001b[43m(\u001b[49m\u001b[43mprompt_messages\u001b[49m\u001b[43m,\u001b[49m\u001b[43m \u001b[49m\u001b[43mstop\u001b[49m\u001b[38;5;241;43m=\u001b[39;49m\u001b[43mstop\u001b[49m\u001b[43m,\u001b[49m\u001b[43m \u001b[49m\u001b[43mcallbacks\u001b[49m\u001b[38;5;241;43m=\u001b[39;49m\u001b[43mcallbacks\u001b[49m\u001b[43m,\u001b[49m\u001b[43m \u001b[49m\u001b[38;5;241;43m*\u001b[39;49m\u001b[38;5;241;43m*\u001b[39;49m\u001b[43mkwargs\u001b[49m\u001b[43m)\u001b[49m\n",
      "File \u001b[0;32m~/Projets/Kaggle/kaggle_env/lib/python3.10/site-packages/langchain_core/language_models/chat_models.py:842\u001b[0m, in \u001b[0;36mBaseChatModel.generate\u001b[0;34m(self, messages, stop, callbacks, tags, metadata, run_name, run_id, **kwargs)\u001b[0m\n\u001b[1;32m    839\u001b[0m \u001b[38;5;28;01mfor\u001b[39;00m i, m \u001b[38;5;129;01min\u001b[39;00m \u001b[38;5;28menumerate\u001b[39m(input_messages):\n\u001b[1;32m    840\u001b[0m     \u001b[38;5;28;01mtry\u001b[39;00m:\n\u001b[1;32m    841\u001b[0m         results\u001b[38;5;241m.\u001b[39mappend(\n\u001b[0;32m--> 842\u001b[0m             \u001b[38;5;28;43mself\u001b[39;49m\u001b[38;5;241;43m.\u001b[39;49m\u001b[43m_generate_with_cache\u001b[49m\u001b[43m(\u001b[49m\n\u001b[1;32m    843\u001b[0m \u001b[43m                \u001b[49m\u001b[43mm\u001b[49m\u001b[43m,\u001b[49m\n\u001b[1;32m    844\u001b[0m \u001b[43m                \u001b[49m\u001b[43mstop\u001b[49m\u001b[38;5;241;43m=\u001b[39;49m\u001b[43mstop\u001b[49m\u001b[43m,\u001b[49m\n\u001b[1;32m    845\u001b[0m \u001b[43m                \u001b[49m\u001b[43mrun_manager\u001b[49m\u001b[38;5;241;43m=\u001b[39;49m\u001b[43mrun_managers\u001b[49m\u001b[43m[\u001b[49m\u001b[43mi\u001b[49m\u001b[43m]\u001b[49m\u001b[43m \u001b[49m\u001b[38;5;28;43;01mif\u001b[39;49;00m\u001b[43m \u001b[49m\u001b[43mrun_managers\u001b[49m\u001b[43m \u001b[49m\u001b[38;5;28;43;01melse\u001b[39;49;00m\u001b[43m \u001b[49m\u001b[38;5;28;43;01mNone\u001b[39;49;00m\u001b[43m,\u001b[49m\n\u001b[1;32m    846\u001b[0m \u001b[43m                \u001b[49m\u001b[38;5;241;43m*\u001b[39;49m\u001b[38;5;241;43m*\u001b[39;49m\u001b[43mkwargs\u001b[49m\u001b[43m,\u001b[49m\n\u001b[1;32m    847\u001b[0m \u001b[43m            \u001b[49m\u001b[43m)\u001b[49m\n\u001b[1;32m    848\u001b[0m         )\n\u001b[1;32m    849\u001b[0m     \u001b[38;5;28;01mexcept\u001b[39;00m \u001b[38;5;167;01mBaseException\u001b[39;00m \u001b[38;5;28;01mas\u001b[39;00m e:\n\u001b[1;32m    850\u001b[0m         \u001b[38;5;28;01mif\u001b[39;00m run_managers:\n",
      "File \u001b[0;32m~/Projets/Kaggle/kaggle_env/lib/python3.10/site-packages/langchain_core/language_models/chat_models.py:1091\u001b[0m, in \u001b[0;36mBaseChatModel._generate_with_cache\u001b[0;34m(self, messages, stop, run_manager, **kwargs)\u001b[0m\n\u001b[1;32m   1089\u001b[0m     result \u001b[38;5;241m=\u001b[39m generate_from_stream(\u001b[38;5;28miter\u001b[39m(chunks))\n\u001b[1;32m   1090\u001b[0m \u001b[38;5;28;01melif\u001b[39;00m inspect\u001b[38;5;241m.\u001b[39msignature(\u001b[38;5;28mself\u001b[39m\u001b[38;5;241m.\u001b[39m_generate)\u001b[38;5;241m.\u001b[39mparameters\u001b[38;5;241m.\u001b[39mget(\u001b[38;5;124m\"\u001b[39m\u001b[38;5;124mrun_manager\u001b[39m\u001b[38;5;124m\"\u001b[39m):\n\u001b[0;32m-> 1091\u001b[0m     result \u001b[38;5;241m=\u001b[39m \u001b[38;5;28;43mself\u001b[39;49m\u001b[38;5;241;43m.\u001b[39;49m\u001b[43m_generate\u001b[49m\u001b[43m(\u001b[49m\n\u001b[1;32m   1092\u001b[0m \u001b[43m        \u001b[49m\u001b[43mmessages\u001b[49m\u001b[43m,\u001b[49m\u001b[43m \u001b[49m\u001b[43mstop\u001b[49m\u001b[38;5;241;43m=\u001b[39;49m\u001b[43mstop\u001b[49m\u001b[43m,\u001b[49m\u001b[43m \u001b[49m\u001b[43mrun_manager\u001b[49m\u001b[38;5;241;43m=\u001b[39;49m\u001b[43mrun_manager\u001b[49m\u001b[43m,\u001b[49m\u001b[43m \u001b[49m\u001b[38;5;241;43m*\u001b[39;49m\u001b[38;5;241;43m*\u001b[39;49m\u001b[43mkwargs\u001b[49m\n\u001b[1;32m   1093\u001b[0m \u001b[43m    \u001b[49m\u001b[43m)\u001b[49m\n\u001b[1;32m   1094\u001b[0m \u001b[38;5;28;01melse\u001b[39;00m:\n\u001b[1;32m   1095\u001b[0m     result \u001b[38;5;241m=\u001b[39m \u001b[38;5;28mself\u001b[39m\u001b[38;5;241m.\u001b[39m_generate(messages, stop\u001b[38;5;241m=\u001b[39mstop, \u001b[38;5;241m*\u001b[39m\u001b[38;5;241m*\u001b[39mkwargs)\n",
      "File \u001b[0;32m~/Projets/Kaggle/kaggle_env/lib/python3.10/site-packages/langchain_google_genai/chat_models.py:1095\u001b[0m, in \u001b[0;36mChatGoogleGenerativeAI._generate\u001b[0;34m(self, messages, stop, run_manager, tools, functions, safety_settings, tool_config, generation_config, cached_content, tool_choice, **kwargs)\u001b[0m\n\u001b[1;32m   1078\u001b[0m request \u001b[38;5;241m=\u001b[39m \u001b[38;5;28mself\u001b[39m\u001b[38;5;241m.\u001b[39m_prepare_request(\n\u001b[1;32m   1079\u001b[0m     messages,\n\u001b[1;32m   1080\u001b[0m     stop\u001b[38;5;241m=\u001b[39mstop,\n\u001b[0;32m   (...)\u001b[0m\n\u001b[1;32m   1087\u001b[0m     tool_choice\u001b[38;5;241m=\u001b[39mtool_choice,\n\u001b[1;32m   1088\u001b[0m )\n\u001b[1;32m   1089\u001b[0m response: GenerateContentResponse \u001b[38;5;241m=\u001b[39m _chat_with_retry(\n\u001b[1;32m   1090\u001b[0m     request\u001b[38;5;241m=\u001b[39mrequest,\n\u001b[1;32m   1091\u001b[0m     \u001b[38;5;241m*\u001b[39m\u001b[38;5;241m*\u001b[39mkwargs,\n\u001b[1;32m   1092\u001b[0m     generation_method\u001b[38;5;241m=\u001b[39m\u001b[38;5;28mself\u001b[39m\u001b[38;5;241m.\u001b[39mclient\u001b[38;5;241m.\u001b[39mgenerate_content,\n\u001b[1;32m   1093\u001b[0m     metadata\u001b[38;5;241m=\u001b[39m\u001b[38;5;28mself\u001b[39m\u001b[38;5;241m.\u001b[39mdefault_metadata,\n\u001b[1;32m   1094\u001b[0m )\n\u001b[0;32m-> 1095\u001b[0m \u001b[38;5;28;01mreturn\u001b[39;00m \u001b[43m_response_to_result\u001b[49m\u001b[43m(\u001b[49m\u001b[43mresponse\u001b[49m\u001b[43m)\u001b[49m\n",
      "File \u001b[0;32m~/Projets/Kaggle/kaggle_env/lib/python3.10/site-packages/langchain_google_genai/chat_models.py:621\u001b[0m, in \u001b[0;36m_response_to_result\u001b[0;34m(response, stream, prev_usage)\u001b[0m\n\u001b[1;32m    619\u001b[0m generation_info \u001b[38;5;241m=\u001b[39m {}\n\u001b[1;32m    620\u001b[0m \u001b[38;5;28;01mif\u001b[39;00m candidate\u001b[38;5;241m.\u001b[39mfinish_reason:\n\u001b[0;32m--> 621\u001b[0m     generation_info[\u001b[38;5;124m\"\u001b[39m\u001b[38;5;124mfinish_reason\u001b[39m\u001b[38;5;124m\"\u001b[39m] \u001b[38;5;241m=\u001b[39m \u001b[43mcandidate\u001b[49m\u001b[38;5;241;43m.\u001b[39;49m\u001b[43mfinish_reason\u001b[49m\u001b[38;5;241;43m.\u001b[39;49m\u001b[43mname\u001b[49m\n\u001b[1;32m    622\u001b[0m     \u001b[38;5;66;03m# Add model_name in last chunk\u001b[39;00m\n\u001b[1;32m    623\u001b[0m     generation_info[\u001b[38;5;124m\"\u001b[39m\u001b[38;5;124mmodel_name\u001b[39m\u001b[38;5;124m\"\u001b[39m] \u001b[38;5;241m=\u001b[39m response\u001b[38;5;241m.\u001b[39mmodel_version\n",
      "\u001b[0;31mAttributeError\u001b[0m: 'int' object has no attribute 'name'"
     ]
    }
   ],
   "source": [
    "# Remember that you have not implemented ordering yet, so this will loop forever,\n",
    "# unless you input `q`, `quit` or one of the other exit terms defined in the\n",
    "# `human_node`.\n",
    "# Uncomment this line to execute the graph:\n",
    "state = graph_with_menu.invoke({\"messages\": []}, config)\n",
    "\n",
    "# Things to try:\n",
    "# - I'd love an espresso drink, what have you got?\n",
    "# - What teas do you have?\n",
    "# - Can you do a long black? (this is on the menu as an \"Americano\" - see if it can\n",
    "#   figure it out)\n",
    "# - 'q' to exit.\n",
    "\n",
    "\n",
    "pprint(state)"
   ]
  },
  {
   "cell_type": "markdown",
   "metadata": {
    "id": "ikO4M2fZDkyx"
   },
   "source": [
    "## Handle orders\n",
    "\n",
    "To build up an order during the chat conversation, you will need to update the state to track the order, and provide simple tools that update this state. These need to be explicit as the model should not directly have access to the apps internal state, or it risks being manipulated arbitrarily.\n",
    "\n",
    "The ordering tools will be added as stubs in a separate node so that you can edit the state directly. Using the `@tool` annotation is still a handy way to define their schema, so the ordering tools below are implemented as empty Python functions."
   ]
  },
  {
   "cell_type": "code",
   "execution_count": 20,
   "metadata": {
    "execution": {
     "iopub.execute_input": "2025-04-03T03:23:27.310672Z",
     "iopub.status.busy": "2025-04-03T03:23:27.310253Z",
     "iopub.status.idle": "2025-04-03T03:23:27.346944Z",
     "shell.execute_reply": "2025-04-03T03:23:27.345751Z",
     "shell.execute_reply.started": "2025-04-03T03:23:27.310635Z"
    },
    "id": "jqsLovPBQe0I",
    "trusted": true
   },
   "outputs": [],
   "source": [
    "from collections.abc import Iterable\n",
    "from random import randint\n",
    "\n",
    "from langchain_core.messages.tool import ToolMessage\n",
    "\n",
    "# These functions have no body; LangGraph does not allow @tools to update\n",
    "# the conversation state, so you will implement a separate node to handle\n",
    "# state updates. Using @tools is still very convenient for defining the tool\n",
    "# schema, so empty functions have been defined that will be bound to the LLM\n",
    "# but their implementation is deferred to the order_node.\n",
    "\n",
    "\n",
    "@tool\n",
    "def add_to_order(drink: str, modifiers: Iterable[str]) -> str:\n",
    "    \"\"\"Adds the specified drink to the customer's order, including any modifiers.\n",
    "\n",
    "    Returns:\n",
    "      The updated order in progress.\n",
    "    \"\"\"\n",
    "\n",
    "\n",
    "@tool\n",
    "def confirm_order() -> str:\n",
    "    \"\"\"Asks the customer if the order is correct.\n",
    "\n",
    "    Returns:\n",
    "      The user's free-text response.\n",
    "    \"\"\"\n",
    "\n",
    "\n",
    "@tool\n",
    "def get_order() -> str:\n",
    "    \"\"\"Returns the users order so far. One item per line.\"\"\"\n",
    "\n",
    "\n",
    "@tool\n",
    "def clear_order():\n",
    "    \"\"\"Removes all items from the user's order.\"\"\"\n",
    "\n",
    "\n",
    "@tool\n",
    "def place_order() -> int:\n",
    "    \"\"\"Sends the order to the barista for fulfillment.\n",
    "\n",
    "    Returns:\n",
    "      The estimated number of minutes until the order is ready.\n",
    "    \"\"\"\n",
    "\n",
    "\n",
    "def order_node(state: OrderState) -> OrderState:\n",
    "    \"\"\"The ordering node. This is where the order state is manipulated.\"\"\"\n",
    "    tool_msg = state.get(\"messages\", [])[-1]\n",
    "    order = state.get(\"order\", [])\n",
    "    outbound_msgs = []\n",
    "    order_placed = False\n",
    "\n",
    "    for tool_call in tool_msg.tool_calls:\n",
    "\n",
    "        if tool_call[\"name\"] == \"add_to_order\":\n",
    "\n",
    "            # Each order item is just a string. This is where it assembled as \"drink (modifiers, ...)\".\n",
    "            modifiers = tool_call[\"args\"][\"modifiers\"]\n",
    "            modifier_str = \", \".join(modifiers) if modifiers else \"no modifiers\"\n",
    "\n",
    "            order.append(f'{tool_call[\"args\"][\"drink\"]} ({modifier_str})')\n",
    "            response = \"\\n\".join(order)\n",
    "\n",
    "        elif tool_call[\"name\"] == \"confirm_order\":\n",
    "\n",
    "            # We could entrust the LLM to do order confirmation, but it is a good practice to\n",
    "            # show the user the exact data that comprises their order so that what they confirm\n",
    "            # precisely matches the order that goes to the kitchen - avoiding hallucination\n",
    "            # or reality skew.\n",
    "\n",
    "            # In a real scenario, this is where you would connect your POS screen to show the\n",
    "            # order to the user.\n",
    "\n",
    "            print(\"Your order:\")\n",
    "            if not order:\n",
    "                print(\"  (no items)\")\n",
    "\n",
    "            for drink in order:\n",
    "                print(f\"  {drink}\")\n",
    "\n",
    "            response = input(\"Is this correct? \")\n",
    "\n",
    "        elif tool_call[\"name\"] == \"get_order\":\n",
    "\n",
    "            response = \"\\n\".join(order) if order else \"(no order)\"\n",
    "\n",
    "        elif tool_call[\"name\"] == \"clear_order\":\n",
    "\n",
    "            order.clear()\n",
    "            response = None\n",
    "\n",
    "        elif tool_call[\"name\"] == \"place_order\":\n",
    "\n",
    "            order_text = \"\\n\".join(order)\n",
    "            print(\"Sending order to kitchen!\")\n",
    "            print(order_text)\n",
    "\n",
    "            # TODO(you!): Implement cafe.\n",
    "            order_placed = True\n",
    "            response = randint(1, 5)  # ETA in minutes\n",
    "\n",
    "        else:\n",
    "            raise NotImplementedError(f'Unknown tool call: {tool_call[\"name\"]}')\n",
    "\n",
    "        # Record the tool results as tool messages.\n",
    "        outbound_msgs.append(\n",
    "            ToolMessage(\n",
    "                content=response,\n",
    "                name=tool_call[\"name\"],\n",
    "                tool_call_id=tool_call[\"id\"],\n",
    "            )\n",
    "        )\n",
    "\n",
    "    return {\"messages\": outbound_msgs, \"order\": order, \"finished\": order_placed}\n",
    "\n",
    "\n",
    "def maybe_route_to_tools(state: OrderState) -> str:\n",
    "    \"\"\"Route between chat and tool nodes if a tool call is made.\"\"\"\n",
    "    if not (msgs := state.get(\"messages\", [])):\n",
    "        raise ValueError(f\"No messages found when parsing state: {state}\")\n",
    "\n",
    "    msg = msgs[-1]\n",
    "\n",
    "    if state.get(\"finished\", False):\n",
    "        # When an order is placed, exit the app. The system instruction indicates\n",
    "        # that the chatbot should say thanks and goodbye at this point, so we can exit\n",
    "        # cleanly.\n",
    "        return END\n",
    "\n",
    "    elif hasattr(msg, \"tool_calls\") and len(msg.tool_calls) > 0:\n",
    "        # Route to `tools` node for any automated tool calls first.\n",
    "        if any(\n",
    "            tool[\"name\"] in tool_node.tools_by_name.keys() for tool in msg.tool_calls\n",
    "        ):\n",
    "            return \"tools\"\n",
    "        else:\n",
    "            return \"ordering\"\n",
    "\n",
    "    else:\n",
    "        return \"human\""
   ]
  },
  {
   "cell_type": "markdown",
   "metadata": {
    "id": "UzfKW3lkxtS_"
   },
   "source": [
    "Now define the graph. The LLM needs to know about the tools too, so that it can invoke them. Here you set up 2 sets of tools corresponding to the nodes under which they operate: automated and ordering."
   ]
  },
  {
   "cell_type": "code",
   "execution_count": 21,
   "metadata": {
    "execution": {
     "iopub.execute_input": "2025-04-03T03:23:30.934724Z",
     "iopub.status.busy": "2025-04-03T03:23:30.934271Z",
     "iopub.status.idle": "2025-04-03T03:23:31.061548Z",
     "shell.execute_reply": "2025-04-03T03:23:31.060287Z",
     "shell.execute_reply.started": "2025-04-03T03:23:30.934683Z"
    },
    "id": "9rqkQzlZxrzp",
    "trusted": true
   },
   "outputs": [
    {
     "data": {
      "image/png": "[encoded data removed]",
      "text/plain": [
       "<IPython.core.display.Image object>"
      ]
     },
     "execution_count": 21,
     "metadata": {},
     "output_type": "execute_result"
    }
   ],
   "source": [
    "# Auto-tools will be invoked automatically by the ToolNode\n",
    "auto_tools = [get_menu]\n",
    "tool_node = ToolNode(auto_tools)\n",
    "\n",
    "# Order-tools will be handled by the order node.\n",
    "order_tools = [add_to_order, confirm_order, get_order, clear_order, place_order]\n",
    "\n",
    "# The LLM needs to know about all of the tools, so specify everything here.\n",
    "llm_with_tools = llm.bind_tools(auto_tools + order_tools)\n",
    "\n",
    "\n",
    "graph_builder = StateGraph(OrderState)\n",
    "\n",
    "# Nodes\n",
    "graph_builder.add_node(\"chatbot\", chatbot_with_tools)\n",
    "graph_builder.add_node(\"human\", human_node)\n",
    "graph_builder.add_node(\"tools\", tool_node)\n",
    "graph_builder.add_node(\"ordering\", order_node)\n",
    "\n",
    "# Chatbot -> {ordering, tools, human, END}\n",
    "graph_builder.add_conditional_edges(\"chatbot\", maybe_route_to_tools)\n",
    "# Human -> {chatbot, END}\n",
    "graph_builder.add_conditional_edges(\"human\", maybe_exit_human_node)\n",
    "\n",
    "# Tools (both kinds) always route back to chat afterwards.\n",
    "graph_builder.add_edge(\"tools\", \"chatbot\")\n",
    "graph_builder.add_edge(\"ordering\", \"chatbot\")\n",
    "\n",
    "graph_builder.add_edge(START, \"chatbot\")\n",
    "graph_with_order_tools = graph_builder.compile()\n",
    "\n",
    "Image(graph_with_order_tools.get_graph().draw_mermaid_png())"
   ]
  },
  {
   "cell_type": "markdown",
   "metadata": {
    "id": "G0SVsDu4gD_T"
   },
   "source": [
    "Now run the complete ordering system graph.\n",
    "\n",
    "**You must uncomment the `.invoke(...)` line to run this step.**"
   ]
  },
  {
   "cell_type": "code",
   "execution_count": 22,
   "metadata": {
    "execution": {
     "iopub.execute_input": "2025-04-03T03:23:38.176336Z",
     "iopub.status.busy": "2025-04-03T03:23:38.175937Z",
     "iopub.status.idle": "2025-04-03T03:24:17.03696Z",
     "shell.execute_reply": "2025-04-03T03:24:17.035721Z",
     "shell.execute_reply.started": "2025-04-03T03:23:38.176303Z"
    },
    "id": "NCRSgaBUfIHF",
    "trusted": true
   },
   "outputs": [
    {
     "name": "stdout",
     "output_type": "stream",
     "text": [
      "Model: Welcome to the BaristaBot cafe. Type `q` to quit. How may I serve you today?\n",
      "Model: We have English Breakfast Tea and London Fog, which includes Earl Grey tea.\n",
      "Model: Ok, I have added a London Fog to your order. Anything else?\n",
      "Model: Sure, what kind of coffee would you like? We have Espresso, Americano, and Cold Brew. We also have milk-based coffee drinks like Latte, Cappuccino, Cortado, Macchiato, Mocha, and Flat White.\n",
      "Model: How many shots of espresso would you like? We have Single, Double, Triple, and Quadruple. The default is Double. Also, would you like it decaf or regular? The default is regular.\n",
      "Model: Ok, I have added a Double Espresso to your order. Anything else?\n",
      "Your order:\n",
      "  London Fog (no modifiers)\n",
      "  Espresso (Double)\n",
      "Model: OK, your order includes a London Fog and a Double Espresso. Is that correct?\n",
      "Sending order to kitchen!\n",
      "London Fog (no modifiers)\n",
      "Espresso (Double)\n",
      "{'finished': True,\n",
      " 'messages': [AIMessage(content='Welcome to the BaristaBot cafe. Type `q` to quit. How may I serve you today?', additional_kwargs={}, response_metadata={}, id='62f1ec56-1219-475a-8cd1-0d7d00768e57'),\n",
      "              HumanMessage(content='Which teas are from England?', additional_kwargs={}, response_metadata={}, id='407cc3a5-e2ee-4fab-82af-fe231fa3d565'),\n",
      "              AIMessage(content='', additional_kwargs={'function_call': {'name': 'get_menu', 'arguments': '{}'}}, response_metadata={'prompt_feedback': {'block_reason': 0, 'safety_ratings': []}, 'finish_reason': 'STOP', 'model_name': 'gemini-2.0-flash', 'safety_ratings': []}, id='run--5ece18f8-376b-4e16-93a4-3e5fa0b64846-0', tool_calls=[{'name': 'get_menu', 'args': {}, 'id': '9e880c7d-5f36-485e-af86-cd8e4ed5d7ed', 'type': 'tool_call'}], usage_metadata={'input_tokens': 483, 'output_tokens': 3, 'total_tokens': 486, 'input_token_details': {'cache_read': 0}}),\n",
      "              ToolMessage(content='\\n    MENU:\\n    Coffee Drinks:\\n    Espresso\\n    Americano\\n    Cold Brew\\n\\n    Coffee Drinks with Milk:\\n    Latte\\n    Cappuccino\\n    Cortado\\n    Macchiato\\n    Mocha\\n    Flat White\\n\\n    Tea Drinks:\\n    English Breakfast Tea\\n    Green Tea\\n    Earl Grey\\n\\n    Tea Drinks with Milk:\\n    Chai Latte\\n    Matcha Latte\\n    London Fog\\n\\n    Other Drinks:\\n    Steamer\\n    Hot Chocolate\\n\\n    Modifiers:\\n    Milk options: Whole, 2%, Oat, Almond, 2% Lactose Free; Default option: whole\\n    Espresso shots: Single, Double, Triple, Quadruple; default: Double\\n    Caffeine: Decaf, Regular; default: Regular\\n    Hot-Iced: Hot, Iced; Default: Hot\\n    Sweeteners (option to add one or more): vanilla sweetener, hazelnut sweetener, caramel sauce, chocolate sauce, sugar free vanilla sweetener\\n    Special requests: any reasonable modification that does not involve items not on the menu, for example: \\'extra hot\\', \\'one pump\\', \\'half caff\\', \\'extra foam\\', etc.\\n\\n    \"dirty\" means add a shot of espresso to a drink that doesn\\'t usually have it, like \"Dirty Chai Latte\".\\n    \"Regular milk\" is the same as \\'whole milk\\'.\\n    \"Sweetened\" means add some regular sugar, not a sweetener.\\n\\n    Soy milk has run out of stock today, so soy is not available.\\n  ', name='get_menu', id='5bc9a505-f422-45af-99f7-836c475cbaf6', tool_call_id='9e880c7d-5f36-485e-af86-cd8e4ed5d7ed'),\n",
      "              AIMessage(content='We have English Breakfast Tea and London Fog, which includes Earl Grey tea.', additional_kwargs={}, response_metadata={'prompt_feedback': {'block_reason': 0, 'safety_ratings': []}, 'finish_reason': 'STOP', 'model_name': 'gemini-2.0-flash', 'safety_ratings': []}, id='run--b8372717-5ca5-403b-9b2e-d7081169c692-0', usage_metadata={'input_tokens': 810, 'output_tokens': 16, 'total_tokens': 826, 'input_token_details': {'cache_read': 0}}),\n",
      "              HumanMessage(content='London Fog', additional_kwargs={}, response_metadata={}, id='bb82d602-3a57-4d6f-82b0-08c80f2c7741'),\n",
      "              AIMessage(content='', additional_kwargs={'function_call': {'name': 'add_to_order', 'arguments': '{\"drink\": \"London Fog\", \"modifiers\": []}'}}, response_metadata={'prompt_feedback': {'block_reason': 0, 'safety_ratings': []}, 'finish_reason': 'STOP', 'model_name': 'gemini-2.0-flash', 'safety_ratings': []}, id='run--91d77e4c-251e-45f6-8864-bcd85c0fdad3-0', tool_calls=[{'name': 'add_to_order', 'args': {'drink': 'London Fog', 'modifiers': []}, 'id': '35807dba-048a-4c9f-9ace-72ca211baf60', 'type': 'tool_call'}], usage_metadata={'input_tokens': 827, 'output_tokens': 9, 'total_tokens': 836, 'input_token_details': {'cache_read': 0}}),\n",
      "              ToolMessage(content='London Fog (no modifiers)', name='add_to_order', id='3517a779-6a20-4ed9-9e0c-41dd2bbd42af', tool_call_id='35807dba-048a-4c9f-9ace-72ca211baf60'),\n",
      "              AIMessage(content='Ok, I have added a London Fog to your order. Anything else?', additional_kwargs={}, response_metadata={'prompt_feedback': {'block_reason': 0, 'safety_ratings': []}, 'finish_reason': 'STOP', 'model_name': 'gemini-2.0-flash', 'safety_ratings': []}, id='run--30679e7b-cf91-43f0-a6f6-d6c4fcf36ecf-0', usage_metadata={'input_tokens': 848, 'output_tokens': 15, 'total_tokens': 863, 'input_token_details': {'cache_read': 0}}),\n",
      "              HumanMessage(content='yes, i want a coffe', additional_kwargs={}, response_metadata={}, id='b4eba259-6506-43c9-8d4e-a8e85528ec0a'),\n",
      "              AIMessage(content='Sure, what kind of coffee would you like? We have Espresso, Americano, and Cold Brew. We also have milk-based coffee drinks like Latte, Cappuccino, Cortado, Macchiato, Mocha, and Flat White.', additional_kwargs={}, response_metadata={'prompt_feedback': {'block_reason': 0, 'safety_ratings': []}, 'finish_reason': 'STOP', 'model_name': 'gemini-2.0-flash', 'safety_ratings': []}, id='run--77bf4153-2272-4852-a304-23e46d9febc4-0', usage_metadata={'input_tokens': 869, 'output_tokens': 47, 'total_tokens': 916, 'input_token_details': {'cache_read': 0}}),\n",
      "              HumanMessage(content='espresso', additional_kwargs={}, response_metadata={}, id='f095b482-848a-4e5c-b255-4dc4497a053b'),\n",
      "              AIMessage(content='How many shots of espresso would you like? We have Single, Double, Triple, and Quadruple. The default is Double. Also, would you like it decaf or regular? The default is regular.', additional_kwargs={}, response_metadata={'prompt_feedback': {'block_reason': 0, 'safety_ratings': []}, 'finish_reason': 'STOP', 'model_name': 'gemini-2.0-flash', 'safety_ratings': []}, id='run--7c8d6e3d-a32e-4724-be18-b5272f472699-0', usage_metadata={'input_tokens': 916, 'output_tokens': 44, 'total_tokens': 960, 'input_token_details': {'cache_read': 0}}),\n",
      "              HumanMessage(content='double', additional_kwargs={}, response_metadata={}, id='1de5f828-3edf-43b3-b12b-c49c0cd998ce'),\n",
      "              AIMessage(content='', additional_kwargs={'function_call': {'name': 'add_to_order', 'arguments': '{\"drink\": \"Espresso\", \"modifiers\": [\"Double\"]}'}}, response_metadata={'prompt_feedback': {'block_reason': 0, 'safety_ratings': []}, 'finish_reason': 'STOP', 'model_name': 'gemini-2.0-flash', 'safety_ratings': []}, id='run--cd6f3b1c-e9ca-4b14-8fd2-1c0ca91b8e65-0', tool_calls=[{'name': 'add_to_order', 'args': {'drink': 'Espresso', 'modifiers': ['Double']}, 'id': '3a388776-49ce-494d-b6ce-e8504a7350a6', 'type': 'tool_call'}], usage_metadata={'input_tokens': 960, 'output_tokens': 9, 'total_tokens': 969, 'input_token_details': {'cache_read': 0}}),\n",
      "              ToolMessage(content='London Fog (no modifiers)\\nEspresso (Double)', name='add_to_order', id='2ee71b3f-0ab9-4d99-819b-a5f7ccb08fee', tool_call_id='3a388776-49ce-494d-b6ce-e8504a7350a6'),\n",
      "              AIMessage(content='Ok, I have added a Double Espresso to your order. Anything else?', additional_kwargs={}, response_metadata={'prompt_feedback': {'block_reason': 0, 'safety_ratings': []}, 'finish_reason': 'STOP', 'model_name': 'gemini-2.0-flash', 'safety_ratings': []}, id='run--ef59f582-c77b-4d38-8acf-29096a9abbc8-0', usage_metadata={'input_tokens': 986, 'output_tokens': 15, 'total_tokens': 1001, 'input_token_details': {'cache_read': 0}}),\n",
      "              HumanMessage(content='no', additional_kwargs={}, response_metadata={}, id='d8d2d9e8-b885-4306-8375-f0d53a25b11e'),\n",
      "              AIMessage(content='', additional_kwargs={'function_call': {'name': 'confirm_order', 'arguments': '{}'}}, response_metadata={'prompt_feedback': {'block_reason': 0, 'safety_ratings': []}, 'finish_reason': 'STOP', 'model_name': 'gemini-2.0-flash', 'safety_ratings': []}, id='run--42dc7396-c9db-4db6-bd13-53e3028218b2-0', tool_calls=[{'name': 'confirm_order', 'args': {}, 'id': '0d309cc6-a9ed-4fef-a15b-b27ef08ee3ca', 'type': 'tool_call'}], usage_metadata={'input_tokens': 1002, 'output_tokens': 3, 'total_tokens': 1005, 'input_token_details': {'cache_read': 0}}),\n",
      "              ToolMessage(content='yes', name='confirm_order', id='fc012d3f-0b01-4c9b-ab67-b7defdca9beb', tool_call_id='0d309cc6-a9ed-4fef-a15b-b27ef08ee3ca'),\n",
      "              AIMessage(content='OK, your order includes a London Fog and a Double Espresso. Is that correct?', additional_kwargs={}, response_metadata={'prompt_feedback': {'block_reason': 0, 'safety_ratings': []}, 'finish_reason': 'STOP', 'model_name': 'gemini-2.0-flash', 'safety_ratings': []}, id='run--7b7d4623-d856-4bbb-bea0-8c42cd47bd83-0', usage_metadata={'input_tokens': 1010, 'output_tokens': 18, 'total_tokens': 1028, 'input_token_details': {'cache_read': 0}}),\n",
      "              HumanMessage(content='yes', additional_kwargs={}, response_metadata={}, id='65cfab19-2530-4ee7-98b7-0a39be517b23'),\n",
      "              AIMessage(content='', additional_kwargs={'function_call': {'name': 'place_order', 'arguments': '{}'}}, response_metadata={'prompt_feedback': {'block_reason': 0, 'safety_ratings': []}, 'finish_reason': 'STOP', 'model_name': 'gemini-2.0-flash', 'safety_ratings': []}, id='run--e71514ba-c8a5-4a38-9e49-df56c98f45d9-0', tool_calls=[{'name': 'place_order', 'args': {}, 'id': '652c5de0-45cf-4780-8c21-f1512fba0970', 'type': 'tool_call'}], usage_metadata={'input_tokens': 1028, 'output_tokens': 3, 'total_tokens': 1031, 'input_token_details': {'cache_read': 0}}),\n",
      "              ToolMessage(content='4', name='place_order', id='05c5c47a-7a46-4190-be7e-eded0c6281d2', tool_call_id='652c5de0-45cf-4780-8c21-f1512fba0970'),\n",
      "              AIMessage(content='OK, your order has been placed and will be ready in 4 minutes. Thank you!', additional_kwargs={}, response_metadata={'prompt_feedback': {'block_reason': 0, 'safety_ratings': []}, 'finish_reason': 'STOP', 'model_name': 'gemini-2.0-flash', 'safety_ratings': []}, id='run--b56d9080-c669-42b0-83df-298694c556c7-0', usage_metadata={'input_tokens': 1036, 'output_tokens': 20, 'total_tokens': 1056, 'input_token_details': {'cache_read': 0}})],\n",
      " 'order': ['London Fog (no modifiers)', 'Espresso (Double)']}\n"
     ]
    }
   ],
   "source": [
    "# Uncomment this line to execute the graph:\n",
    "state = graph_with_order_tools.invoke({\"messages\": []}, config)\n",
    "\n",
    "# Things to try:\n",
    "# - Order a drink!\n",
    "# - Make a change to your order.\n",
    "# - \"Which teas are from England?\"\n",
    "# - Note that the graph should naturally exit after placing an order.\n",
    "\n",
    "pprint(state)"
   ]
  },
  {
   "cell_type": "markdown",
   "metadata": {
    "id": "8KM4-akgEVSZ"
   },
   "source": [
    "The order state has been captured both in the `place_order` function and in the final conversational state returned from executing the graph. This iillustrates how you can integrate your own systems to a graph app, as well as collect the final results of executing such an app."
   ]
  },
  {
   "cell_type": "code",
   "execution_count": 23,
   "metadata": {
    "execution": {
     "iopub.execute_input": "2025-04-03T03:24:23.482492Z",
     "iopub.status.busy": "2025-04-03T03:24:23.482128Z",
     "iopub.status.idle": "2025-04-03T03:24:23.488201Z",
     "shell.execute_reply": "2025-04-03T03:24:23.486912Z",
     "shell.execute_reply.started": "2025-04-03T03:24:23.482458Z"
    },
    "id": "n4jUJCr3fJpy",
    "trusted": true
   },
   "outputs": [
    {
     "name": "stdout",
     "output_type": "stream",
     "text": [
      "['London Fog (no modifiers)', 'Espresso (Double)']\n"
     ]
    }
   ],
   "source": [
    "# Uncomment this once you have run the graph from the previous cell.\n",
    "pprint(state[\"order\"])"
   ]
  },
  {
   "cell_type": "markdown",
   "metadata": {
    "id": "1BV4euQjRR4w",
    "jp-MarkdownHeadingCollapsed": true
   },
   "source": [
    "## Further exercises\n",
    "\n",
    "Congratulations on building an agentic, human-in-the-loop, natural-language powered cafe ordering system using LangGraph and the Gemini API!\n",
    "\n",
    "This example app could be taken in many different directions. You should try and build out your own ideas, but for some inspiration, consider:\n",
    "\n",
    "* Adding more structure the order (`OrderState.order`) - e.g. separate fields for item, modifiers and even quantity.\n",
    "* Currently the model can only clear and re-add items, so add a function to `remove_item`s from the order.\n",
    "* Try building a UI that displays the in-progress order and hosts the chat. Frameworks like [Gradio](https://www.gradio.app/) or [Mesop](https://google.github.io/mesop/) are great for this.\n",
    "\n",
    "This system works well for a single person ordering, but agentic systems can interact with many sources. For a big stretch exercise, try and extend this app to run at a specific schedule, and contact your friends or colleagues over [Chat](https://developers.google.com/workspace/chat/api/reference/rest) to collect their daily coffee orders.\n",
    "\n",
    "*- [Mark McD](https://linktr.ee/markmcd)*"
   ]
  }
 ],
 "metadata": {
  "colab": {
   "name": "day-3-building-an-agent-with-langgraph.ipynb",
   "toc_visible": true
  },
  "kaggle": {
   "accelerator": "none",
   "dataSources": [],
   "dockerImageVersionId": 30786,
   "isGpuEnabled": false,
   "isInternetEnabled": true,
   "language": "python",
   "sourceType": "notebook"
  },
  "kernelspec": {
   "display_name": "kaggle_env",
   "language": "python",
   "name": "python3"
  },
  "language_info": {
   "codemirror_mode": {
    "name": "ipython",
    "version": 3
   },
   "file_extension": ".py",
   "mimetype": "text/x-python",
   "name": "python",
   "nbconvert_exporter": "python",
   "pygments_lexer": "ipython3",
   "version": "3.10.19"
  }
 },
 "nbformat": 4,
 "nbformat_minor": 4
}
